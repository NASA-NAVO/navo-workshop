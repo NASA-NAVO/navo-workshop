{
 "cells": [
  {
   "cell_type": "markdown",
   "id": "b96993b9",
   "metadata": {},
   "source": [
    "# UCDs (Unified Content Descriptors)\n",
    "\n",
    "Suppose you want to do something using a column that you expect to find in a bunch of different tables, like coordinates and time.  It's a good bet that many if not most of the tables have coordinate columns, but there's no rule about what they have to be named.\n",
    "\n",
    "When doing detailed catalog queries with the TAP, you can obviously examine the columns of every table you're interested in to find the columns you want.  Then you can hard-code the correct ones into each query for each table and service.\n",
    "\n",
    "Or, you can also search for keywords like \"ra\" or \"ascension\" in the columns and their descriptions to get the columns you want automatically that way.\n",
    "\n",
    "But is there are more generic way?  [Unified Content Descriptors (UCDs)](http://www.ivoa.net/documents/latest/UCD.html) are a VO standard that allows table publishers to name their columns whatever they (or their contributors) want but to identify those that contain standard sorts of data.  For example, the RA column could be called \"RA\", \"ra\", \"Right_Ascension\", etc.  But in all cases, a VO service can label the column with its UCD, which is \"pos.eq.ra\".  This information is not part of the table but part of the meta-data that the service may provide with that data. Though not required of all VO services, UCDs are commonly provided precisely to make such tasks as identifying the columns of interest easier to automate.\n",
    "\n",
    "This is easiest to show by example."
   ]
  },
  {
   "cell_type": "code",
   "execution_count": 1,
   "id": "056ed78e",
   "metadata": {},
   "outputs": [],
   "source": [
    "# Generic VO access routines\n",
    "import pyvo as vo\n",
    "\n",
    "# Ignore unimportant warnings\n",
    "import warnings\n",
    "warnings.filterwarnings('ignore', '.*Unknown element .*', vo.utils.xml.elements.UnknownElementWarning)"
   ]
  },
  {
   "cell_type": "markdown",
   "id": "2ec76840",
   "metadata": {},
   "source": [
    "Let's look at some tables in a little more detail.  Let's find the Hubble Source Catalog version 3 (HSCv3), assuming there's only one at MAST."
   ]
  },
  {
   "cell_type": "code",
   "execution_count": 2,
   "id": "8b00aec1",
   "metadata": {},
   "outputs": [
    {
     "name": "stdout",
     "output_type": "stream",
     "text": [
      "Title: MAST STScI Hubble Source Catalog Version 3 (HSCv3) TAP service\n",
      "The MAST Archive at STScI TAP end point for the Hubble Source Catalog, version 3.1. The Hubble Source Catalog (HSC) is designed to optimize science from the Hubble Space Telescope by combining the tens of thousands of visit-based source lists in the Hubble Legacy Archive (HLA) into a single master catalog. The Hubble Source Catalog version 3.1 also provides proper motions for over 400,00 stars in the augmented Sagittarius Window Eclipsing Extrasolar Planet Search (SWEEPS) HST field, and the Hubble Catalog of Variables (HCV).\n",
      "\n",
      "The Table Access Protocol (TAP) lets you execute queries against our database tables, and inspect various metadata.  Upload is not currently supported.\n"
     ]
    }
   ],
   "source": [
    "services = vo.regsearch(servicetype='tap', keywords=['mast'])\n",
    "hsc=[s for s in services if 'HSCv3' in s.res_title][0]\n",
    "\n",
    "print(f'Title: {hsc.res_title}')\n",
    "print(f'{hsc.res_description}')"
   ]
  },
  {
   "cell_type": "markdown",
   "id": "58fbb7e0",
   "metadata": {},
   "source": [
    "Now let's see what tables are provided by this service for HSCv3.  Note that this is another query to the service:"
   ]
  },
  {
   "cell_type": "code",
   "execution_count": 3,
   "id": "16ac5251",
   "metadata": {},
   "outputs": [
    {
     "name": "stdout",
     "output_type": "stream",
     "text": [
      "13 tables:\n"
     ]
    },
    {
     "name": "stdout",
     "output_type": "stream",
     "text": [
      "tap_schema.schemas             - description of schemas in this dataset\n",
      "----\n",
      "tap_schema.tables              - description of tables in this dataset\n",
      "----\n",
      "tap_schema.columns             - description of columns in this dataset\n",
      "----\n"
     ]
    },
    {
     "name": "stdout",
     "output_type": "stream",
     "text": [
      "tap_schema.keys                - description of foreign keys in this dataset\n",
      "----\n",
      "tap_schema.key_columns         - description of foreign key columns in this dataset\n",
      "----\n",
      "dbo.detailedcatalog            - Detailed list of source catalog parameters\n",
      "----\n"
     ]
    },
    {
     "name": "stdout",
     "output_type": "stream",
     "text": [
      "dbo.hcvdetailedview            - Detailed list of Hubble Catalog of Variables parameters\n",
      "----\n",
      "dbo.hcvsummaryview             - Summary list of Hubble Catalog of Variables parameters\n",
      "----\n"
     ]
    },
    {
     "name": "stdout",
     "output_type": "stream",
     "text": [
      "dbo.propermotionsview          - List of proper motion information\n",
      "----\n",
      "dbo.sourcepositionsview        - List of source position information\n",
      "----\n"
     ]
    },
    {
     "name": "stdout",
     "output_type": "stream",
     "text": [
      "dbo.summagaper2catview         - Summary list of source catalog with Aper2 magnitudes\n",
      "----\n",
      "dbo.summagautocatview          - Summary list of source catalog with MagAuto magnitudes\n",
      "----\n"
     ]
    },
    {
     "name": "stdout",
     "output_type": "stream",
     "text": [
      "dbo.catalog_image_metadata     - Summary list of Image processing metadata\n",
      "----\n"
     ]
    }
   ],
   "source": [
    "tables = hsc.service.tables  # Queries for details of the service's tables\n",
    "print(f'{len(tables)} tables:')\n",
    "for t in tables:\n",
    "    print(f'{t.name:30s} - {t.description}\\n----')  # A more succinct option than t.describe()"
   ]
  },
  {
   "cell_type": "markdown",
   "id": "2b252f8c",
   "metadata": {},
   "source": [
    "Let's look at the first 10 columns of the DetailedCatalog table.  Again, note that calling the columns attribute sends another query to the service to ask for the columns."
   ]
  },
  {
   "cell_type": "code",
   "execution_count": 4,
   "id": "ef370e00",
   "metadata": {},
   "outputs": [
    {
     "name": "stdout",
     "output_type": "stream",
     "text": [
      "catid [meta.id;meta.main]      - unique identifier for the catalog entry\n",
      "matchid [meta.id.cross]        - identifier for the match\n",
      "memid [meta.id.assoc]          - unique identifier for each source of a match\n",
      "sourceid [meta.id.assoc]       - source identifier from white light (detection) image\n",
      "imageid [meta.id.parent]       - identifier for the hla image\n",
      "det [meta.code.status]         - is source detected in this observation (y/n)\n",
      "matchra [pos.eq.ra;meta.main]  - right ascension (j2000)of match\n",
      "matchdec [pos.eq.dec;meta.main] - declination (j2000) of match\n",
      "sourcera [pos.eq.ra;meta.main] - right ascension (j2000)of source\n",
      "sourcedec [pos.eq.dec;meta.main] - declination (j2000) of source\n",
      "d [pos.angdistance]            - distance between source and match\n",
      "dsigma [stat.stdev;pos.angdistance] - std dev of distance between source and match\n",
      "abscorr [meta.code.status]     - astrometry correction flag\n",
      "ximage [pos.cartesian.x]       - x position of source in image coordinates\n",
      "yimage [pos.cartesian.y]       - y position of source in image coordinates\n",
      "imagename [meta.dataset]       - hla image name\n",
      "instrument [instr]             - instrument\n",
      "mode [instr.setup]             - observing mode\n",
      "detector [instr.setup;instr.det] - detector\n",
      "aperture [instr.setup]         - aperture\n",
      "exposuretime [time.duration]   - exposure time\n",
      "starttime [time.start]         - observation start time\n",
      "stoptime [time.end]            - observation stop time\n",
      "startmjd [time.start]          - observation mjd start time\n",
      "stopmjd [time.end]             - observation mjd stop time\n",
      "wavelength [em.wl]             - pivot wavelength in angstroms\n",
      "filter [instr.setup;instr.filter] - filter\n",
      "targetname [meta.id.assoc]     - target name for observation\n",
      "fluxaper2 [phot.flux]          - count rate with an aperture radius 0.3 arcsec (wfpc2); 0.15 arcsec (acs and wfc3/uvis); 0.45 arcsec (wfc3/ir)\n",
      "magaper2 [phot.mag]            - magnitude  with an aperture radius 0.3 arcsec (wfpc2); 0.15 arcsec (acs and wfc3/uvis); 0.45 arcsec (wfc3/ir)\n",
      "magauto [phot.mag]             - estimated total magnitude using source extractor algorithm\n",
      "propid [obs.param]             - hst proposal number\n",
      "ci [phot.mag;arith.diff]       - normalized (by detector and filter) mean value of concentration index defined as difference between magnitude in small and large apertures\n",
      "kronradius [phys.size.radius;stat.mean] - mean value of the kron radius from source extractor\n",
      "flags [meta.code.status]       - bit encoded flag: bit 0 (value 0) = point source; (value 1) = extended; bits 1 or 2 (values 2 or 4) = saturated\n"
     ]
    }
   ],
   "source": [
    "columns=tables['dbo.detailedcatalog'].columns\n",
    "for c in columns:\n",
    "    print(f'{f\"{c.name} [{c.ucd}]\":30s} - {c.description}')"
   ]
  },
  {
   "cell_type": "markdown",
   "id": "fd4264a4",
   "metadata": {},
   "source": [
    "The PyVO method to get the columns will automatically fetch all the meta-data about those columns.  It's up to the service provider to set them correctly, of course, but in this case, we see that the column named \"matchra\" is identified with the UCD \"pos.eq.ra\".\n",
    "\n",
    "So if we did not know the exact name used in HSCv3 for the RA, we could do something like this looking for the string \"ra\":"
   ]
  },
  {
   "cell_type": "code",
   "execution_count": 5,
   "id": "5935e80c",
   "metadata": {},
   "outputs": [
    {
     "name": "stdout",
     "output_type": "stream",
     "text": [
      "['matchra', 'sourcera', 'kronradius']\n"
     ]
    }
   ],
   "source": [
    "ra_name=[c.name for c in columns if 'ra' in c.name.lower() or \"ascension\" in c.name.lower()]\n",
    "print(ra_name)"
   ]
  },
  {
   "cell_type": "markdown",
   "id": "0a693ba5",
   "metadata": {},
   "source": [
    "Since that guessing doesn't give a unique answer, the more general and reliable approach is to check for the correct UCD.  It also has the further advantage that it can be used to label columns that should be used for certain purposes when there are multiple possibilities.  For instance, this table has MatchRA and SourceRA.  Let's check the UCD:\n",
    "\n",
    "(Note that the UCD is not required.  If it isn't there, you get a None type, so code the check carefully)"
   ]
  },
  {
   "cell_type": "code",
   "execution_count": 6,
   "id": "1e313ef6",
   "metadata": {},
   "outputs": [
    {
     "data": {
      "text/plain": [
       "('matchra', 'matchdec')"
      ]
     },
     "execution_count": 6,
     "metadata": {},
     "output_type": "execute_result"
    }
   ],
   "source": [
    "ra_name=[c.name for c in columns if c.ucd and 'pos.eq.ra' in c.ucd][0]\n",
    "dec_name=[c.name for c in columns if c.ucd and 'pos.eq.dec' in c.ucd][0]\n",
    "ra_name,dec_name"
   ]
  },
  {
   "cell_type": "markdown",
   "id": "1feba46a",
   "metadata": {},
   "source": [
    "What that shows you is that though there are two columns in this table that give RA information, only one has the 'pos.eq.ra' UCD. The documentation for this ought to explain the usage of these columns, and the UCD should not be used as a substitute for understanding the table. But it can be a useful tool."
   ]
  },
  {
   "cell_type": "markdown",
   "id": "6f6a9335",
   "metadata": {},
   "source": [
    "In particular, you can use the UCDs to look for catalogs that might have the information you're interested in. Then you can code the same query to work for different tables (with different column names) in a loop.  This sends a bunch of queries but doesn't take too long, a minute maybe. (One is particularly slow.)"
   ]
  },
  {
   "cell_type": "code",
   "execution_count": 7,
   "id": "f0e80151",
   "metadata": {},
   "outputs": [],
   "source": [
    "#  Look for all TAP services with x-ray and optical data\n",
    "collection={}\n",
    "for s in vo.regsearch(servicetype='tap',keywords=['x-ray','optical']):\n",
    "    if \"wfau\" in s.ivoid:  continue #  These sometimes have issues\n",
    "    print(f\"Looking at service from {s.ivoid}\")\n",
    "    try:\n",
    "        tables=s.service.tables\n",
    "    except:\n",
    "        print(\"Problem with this service's tables endpoint.  Continuing to next.\")\n",
    "        continue\n",
    "    #  Find all the tables that have an RA,DEC and a start and end time\n",
    "    for t in tables:\n",
    "        names={}\n",
    "        for ucd in ['pos.eq.ra','pos.eq.dec','time.start','time.end']:\n",
    "            cols=[c.name for c in t.columns if c.ucd and ucd in c.ucd]\n",
    "            if len(cols) > 0:\n",
    "                names[ucd]=cols[0]  # use the first that matches\n",
    "        if len(names.keys()) == 4:\n",
    "            print(f\"    Table {t.name} has the right columns.  Counting rows matching my time.\")\n",
    "            #  For a first look, a very simple query counting rows in a\n",
    "            #  time range of interest:\n",
    "            query=f\"select count({names['time.start']}) from {t.name}\" \\\n",
    "                  f\" where {names['time.start']} > 52000 \"\n",
    "            try:\n",
    "                results=s.search(query)\n",
    "            except:\n",
    "                print(\"Problem executing query.  Continuing to next.\")\n",
    "                continue\n",
    "            #  For this simple query, the result is a single number, the count.\n",
    "            #   But different services might name the result differently, so\n",
    "            #   don't assume you know the column  name.\n",
    "            print(\"    Found {} results from {}\\n\".format(results.to_table()[0][0],t.name))\n",
    "            #  If the query above asked for the matching data rather than the\n",
    "            #  count, you might want to collect the results.\n",
    "            #  Careful:  here we're assuming the table names are unique\n",
    "            collection[t.name]=results"
   ]
  },
  {
   "cell_type": "markdown",
   "id": "7f1db0c8",
   "metadata": {},
   "source": [
    "You can also use UCDs to look at the results.  Above, we collected just the first 10 rows of the four columns we're interested in from every catalog that had them.  But these tables still have their original column names.  So the UCDs will still be useful, and PyVO provides a simple routine to convert from UCD to column (field) name.\n",
    "\n",
    "Note, however,  that returning the UCDs as part of the result is not mandatory, and some services do not do it.  So you'll have to check.\n",
    "\n",
    "Now we have a collection of rows from different tables with different columns.  In the results object, we have access to a fieldname_with_ucd() function to get the column you want.  Supposing we hadn't already looked for this in the above loop, let's now find out which of these tables has a magnitude column:"
   ]
  },
  {
   "cell_type": "code",
   "execution_count": 8,
   "id": "95f8598d",
   "metadata": {},
   "outputs": [],
   "source": [
    "#ucd='pos.eq.ra'\n",
    "ucd='phot.mag'\n",
    "for tname,results in collection.items():\n",
    "    #print(f\"On table {tname}\")\n",
    "    #  Sometimes this doesn't work well, so use a try:\n",
    "    try:\n",
    "        name=results.fieldname_with_ucd(ucd)\n",
    "    except:\n",
    "        pass\n",
    "    if name:\n",
    "        print(f\"  Table {tname} has the {ucd} column named {name}\")\n",
    "    else:\n",
    "        print(f\"  (Table {tname} didn't find the UCD.)\")"
   ]
  },
  {
   "cell_type": "markdown",
   "id": "171441d4",
   "metadata": {},
   "source": [
    "Lastly, if you have a table of results from a TAP query (and if that service includes the UCDs), then you can get data based on UCDs with the getbyucd() method, which simply gets the corresponding element using fieldname_with_ucd():"
   ]
  },
  {
   "cell_type": "code",
   "execution_count": 9,
   "id": "164489a7",
   "metadata": {},
   "outputs": [
    {
     "data": {
      "text/plain": [
       "[np.float64(20.276399612426758),\n",
       " np.float64(22.451000213623047),\n",
       " np.float64(25.335100173950195),\n",
       " np.float64(22.437999725341797),\n",
       " np.float64(24.32939910888672),\n",
       " np.float64(21.936500549316406),\n",
       " np.float64(25.478700637817383),\n",
       " np.float64(21.499900817871094),\n",
       " np.float64(19.24180030822754),\n",
       " np.float64(24.578399658203125)]"
      ]
     },
     "execution_count": 9,
     "metadata": {},
     "output_type": "execute_result"
    }
   ],
   "source": [
    "results=hsc.service.search(\"select top 10 * from dbo.detailedcatalog\")\n",
    "[r.getbyucd('phot.mag') for r in results]"
   ]
  },
  {
   "cell_type": "markdown",
   "id": "ed0d1e9e",
   "metadata": {},
   "source": [
    "Note that we can see earlier in this notebook, when we looked at this table's contents, that there are two phot.mag fields in this table, MagAper2 and MagAuto.  The getbyucd() and fieldname_with_ucd() routines do not currently allow you to handle multiple columns with the same UCD.  The code can help you find what you want, but it depends on the meta data the service defines, and you still must look at the detailed information for each catalog you use to understand what it contains."
   ]
  },
  {
   "cell_type": "code",
   "execution_count": null,
   "id": "e0ef2172",
   "metadata": {},
   "outputs": [],
   "source": []
  }
 ],
 "metadata": {
  "jupytext": {
   "notebook_metadata_filter": "all",
   "text_representation": {
    "extension": ".md",
    "format_name": "myst",
    "format_version": 0.13,
    "jupytext_version": "1.16.2"
   }
  },
  "kernelspec": {
   "display_name": "Python 3 (ipykernel)",
   "language": "python",
   "name": "python3"
  },
  "language_info": {
   "codemirror_mode": {
    "name": "ipython",
    "version": 3
   },
   "file_extension": ".py",
   "mimetype": "text/x-python",
   "name": "python",
   "nbconvert_exporter": "python",
   "pygments_lexer": "ipython3",
   "version": "3.10.15"
  },
  "source_map": [
   23,
   37,
   44,
   48,
   54,
   58,
   63,
   67,
   71,
   77,
   80,
   86,
   90,
   94,
   98,
   135,
   143,
   157,
   161,
   164,
   168
  ]
 },
 "nbformat": 4,
 "nbformat_minor": 5
}