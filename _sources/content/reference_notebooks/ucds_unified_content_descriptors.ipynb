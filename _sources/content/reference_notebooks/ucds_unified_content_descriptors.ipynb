{
 "cells": [
  {
   "cell_type": "markdown",
   "id": "cd6ae915",
   "metadata": {},
   "source": [
    "#  UCDs:  working with heterogeneous tables\n",
    "\n",
    "Suppose you want to do something using a column that you expect to find in a bunch of different tables, like coordinates and time.  It's a good bet that many if not most of the tables have coordinate columns, but there's no rule about what they have to be named.  \n",
    "\n",
    "When doing detailed catalog queries with the TAP, you can obviously examine the columns of every table you're interested in to find the columns you want.  Then you can hard-code the correct ones into each query for each table and service.  \n",
    "\n",
    "Or, you can also search for keywords like \"ra\" or \"ascension\" in the columns and their descriptions to get the columns you want automatically that way.  \n",
    "\n",
    "But is there are more generic way?  [Unified Content Descriptors (UCDs)](http://www.ivoa.net/documents/latest/UCD.html) are a VO standard that allows table publishers to name their columns whatever they (or their contributors) want but to identify those that contain standard sorts of data.  For example, the RA column could be called \"RA\", \"ra\", \"Right_Ascension\", etc.  But in all cases, a VO service can label the column with its UCD, which is \"pos.eq.ra\".  This information is not part of the table but part of the meta-data that the service may provide with that data. Though not required of all VO services, UCDs are commonly provided precisely to make such tasks as identifying the columns of interest easier to automate.  \n",
    "\n",
    "This is easiest to show by example."
   ]
  },
  {
   "cell_type": "code",
   "execution_count": 1,
   "id": "e884e551",
   "metadata": {},
   "outputs": [],
   "source": [
    "# Generic VO access routines\n",
    "import pyvo as vo\n",
    "\n",
    "# Ignore unimportant warnings\n",
    "import warnings\n",
    "warnings.filterwarnings('ignore', '.*Unknown element .*', vo.utils.xml.elements.UnknownElementWarning)"
   ]
  },
  {
   "cell_type": "markdown",
   "id": "2f1cbef6",
   "metadata": {},
   "source": [
    "Let's look at some tables in a little more detail.  Let's find the Hubble Source Catalog version 3 (HSCv3), assuming there's only one at MAST."
   ]
  },
  {
   "cell_type": "code",
   "execution_count": 2,
   "id": "43f67742",
   "metadata": {},
   "outputs": [
    {
     "name": "stdout",
     "output_type": "stream",
     "text": [
      "Title: MAST STScI Hubble Source Catalog Version 3 (HSCv3) TAP service\n",
      "The MAST Archive at STScI TAP end point for the Hubble Source Catalog, version 3.1. The Hubble Source Catalog (HSC) is designed to optimize science from the Hubble Space Telescope by combining the tens of thousands of visit-based source lists in the Hubble Legacy Archive (HLA) into a single master catalog. The Hubble Source Catalog version 3.1 also provides proper motions for over 400,00 stars in the augmented Sagittarius Window Eclipsing Extrasolar Planet Search (SWEEPS) HST field, and the Hubble Catalog of Variables (HCV).\n",
      "\n",
      "The Table Access Protocol (TAP) lets you execute queries against our database tables, and inspect various metadata.  Upload is not currently supported.\n"
     ]
    }
   ],
   "source": [
    "services = vo.regsearch(servicetype='tap', keywords=['mast'])\n",
    "hsc=[s for s in services if 'HSCv3' in s.res_title][0]\n",
    "\n",
    "print(f'Title: {hsc.res_title}')\n",
    "print(f'{hsc.res_description}')"
   ]
  },
  {
   "cell_type": "markdown",
   "id": "7267f16a",
   "metadata": {},
   "source": [
    "Now let's see what tables are provided by this service for HSCv3.  Note that this is another query to the service:"
   ]
  },
  {
   "cell_type": "code",
   "execution_count": 3,
   "id": "b3bd5c2c",
   "metadata": {},
   "outputs": [
    {
     "name": "stdout",
     "output_type": "stream",
     "text": [
      "32 tables:\n",
      "tap_schema.schemas             - description of schemas in this dataset\n",
      "----\n"
     ]
    },
    {
     "name": "stdout",
     "output_type": "stream",
     "text": [
      "tap_schema.tables              - description of tables in this dataset\n",
      "----\n",
      "tap_schema.columns             - description of columns in this dataset\n",
      "----\n",
      "tap_schema.keys                - description of foreign keys in this dataset\n",
      "----\n",
      "tap_schema.key_columns         - description of foreign key columns in this dataset\n",
      "----\n"
     ]
    },
    {
     "name": "stdout",
     "output_type": "stream",
     "text": [
      "dbo.DetailedCatalog            - None\n",
      "----\n",
      "dbo.SumMagAper2Cat             - None\n",
      "----\n"
     ]
    },
    {
     "name": "stdout",
     "output_type": "stream",
     "text": [
      "dbo.SumMagAutoCat              - None\n",
      "----\n",
      "dbo.Catalog_ACS_SourceExtractor - None\n",
      "----\n",
      "dbo.Catalog_WFC3_SourceExtractor - None\n",
      "----\n",
      "dbo.Catalog_WFPC2_SourceExtractor - None\n",
      "----\n"
     ]
    },
    {
     "name": "stdout",
     "output_type": "stream",
     "text": [
      "dbo.Catalog_Image_MetaData     - None\n",
      "----\n",
      "dbo.CloseMatch                 - None\n",
      "----\n",
      "dbo.ClosestMatch               - None\n",
      "----\n",
      "dbo.GroupMembers               - None\n",
      "----\n"
     ]
    },
    {
     "name": "stdout",
     "output_type": "stream",
     "text": [
      "dbo.Groups                     - None\n",
      "----\n",
      "dbo.HCVdetailedView            - None\n",
      "----\n",
      "dbo.HCVsummaryView             - None\n",
      "----\n",
      "dbo.HLAscience                 - None\n",
      "----\n"
     ]
    },
    {
     "name": "stdout",
     "output_type": "stream",
     "text": [
      "dbo.ImageMembers               - None\n",
      "----\n",
      "dbo.Images                     - None\n",
      "----\n",
      "dbo.ProductMembers             - None\n",
      "----\n",
      "dbo.ProperMotionsView          - None\n",
      "----\n"
     ]
    },
    {
     "name": "stdout",
     "output_type": "stream",
     "text": [
      "dbo.SourceLinks                - None\n",
      "----\n",
      "dbo.SourcePositionsView        - None\n",
      "----\n",
      "dbo.Sources                    - None\n",
      "----\n"
     ]
    },
    {
     "name": "stdout",
     "output_type": "stream",
     "text": [
      "dbo.SumMagAper2CatView         - None\n",
      "----\n",
      "dbo.SumMagAutoCatView          - None\n",
      "----\n",
      "dbo.WFPC2PCFRAC                - None\n",
      "----\n"
     ]
    },
    {
     "name": "stdout",
     "output_type": "stream",
     "text": [
      "dbo.XMatchV2                   - None\n",
      "----\n",
      "dbo.HCVdetailedViewT           - None\n",
      "----\n",
      "dbo.HCVsummaryViewT            - None\n",
      "----\n"
     ]
    }
   ],
   "source": [
    "tables = hsc.service.tables  # Queries for details of the service's tables\n",
    "print(f'{len(tables)} tables:')\n",
    "for t in tables:\n",
    "    print(f'{t.name:30s} - {t.description}\\n----')  # A more succinct option than t.describe()"
   ]
  },
  {
   "cell_type": "markdown",
   "id": "757dd39b",
   "metadata": {},
   "source": [
    "Let's look at the first 10 columns of the DetailedCatalog table.  Again, note that calling the columns attribute sends another query to the service to ask for the columns."
   ]
  },
  {
   "cell_type": "code",
   "execution_count": 4,
   "id": "b427a231",
   "metadata": {},
   "outputs": [
    {
     "name": "stdout",
     "output_type": "stream",
     "text": [
      "CatID [meta.id;meta.main]      - Unique identifier for the catalog entry\n",
      "MatchID [meta.id.cross]        - identifier for the match\n",
      "MemID [meta.id.assoc]          - Unique identifier for each source of a match\n",
      "SourceID [meta.id.assoc]       - Source identifier from white light (detection) image\n",
      "ImageID [meta.id.parent]       - Identifier for the HLA image\n",
      "Det [meta.code.status]         - Is source detected in this observation (Y/N)\n",
      "MatchRA [pos.eq.ra;meta.main]  - Right Ascension (J2000)of match\n",
      "MatchDec [pos.eq.dec;meta.main] - Declination (J2000) of match\n",
      "SourceRA [pos.eq.ra;meta.main] - Right Ascension (J2000)of source\n",
      "SourceDec [pos.eq.dec;meta.main] - Declination (J2000) of source\n",
      "D [pos.angDistance]            - distance between source and match\n",
      "Dsigma [stat.stdev;pos.angDistance] - std dev of distance between source and match\n",
      "AbsCorr [meta.code.status]     - Astrometry correction flag\n",
      "Ximage [pos.cartesian.x]       - X position of source in image coordinates\n",
      "Yimage [pos.cartesian.y]       - Y position of source in image coordinates\n",
      "ImageName [meta.dataset]       - HLA image Name\n",
      "Instrument [instr]             - Instrument\n",
      "Mode [instr.setup]             - Observing mode\n",
      "Detector [instr.setup;instr.det] - Detector\n",
      "Aperture [instr.setup]         - Aperture\n",
      "ExposureTime [time.duration]   - Exposure time\n",
      "StartTime [time.start]         - Observation Start Time\n",
      "StopTime [time.end]            - Observation Stop Time\n",
      "StartMJD [time.start]          - Observation MJD Start Time\n",
      "StopMJD [time.end]             - Observation MJD Stop Time\n",
      "Wavelength [em.wl]             - Pivot wavelength in Angstroms\n",
      "Filter [instr.setup;instr.filter] - Filter\n",
      "TargetName [meta.id.assoc]     - Target Name for observation\n",
      "FluxAper2 [phot.flux]          - Count rate with an aperture radius 0.3 arcsec (WFPC2); 0.15 arcsec (ACS and WFC3/UVIS); 0.45 arcsec (WFC3/IR)\n",
      "MagAper2 [phot.mag]            - Magnitude  with an aperture radius 0.3 arcsec (WFPC2); 0.15 arcsec (ACS and WFC3/UVIS); 0.45 arcsec (WFC3/IR)\n",
      "MagAuto [phot.mag]             - Estimated total magnitude using Source Extractor algorithm\n",
      "PropID [obs.param]             - HST proposal number\n",
      "CI [phot.mag;arith.diff]       - Normalized (by detector and filter) mean value of Concentration Index defined as difference between magnitude in small and large apertures\n",
      "KronRadius [phys.size.radius;stat.mean] - Mean value of the Kron Radius from Source Extractor\n",
      "Flags [meta.code.status]       - Bit encoded flag: bit 0 (value 0) = point source; (value 1) = extended; bits 1 or 2 (values 2 or 4) = saturated\n"
     ]
    }
   ],
   "source": [
    "columns=tables['dbo.DetailedCatalog'].columns\n",
    "for c in columns:\n",
    "    print(f'{f\"{c.name} [{c.ucd}]\":30s} - {c.description}')"
   ]
  },
  {
   "cell_type": "markdown",
   "id": "da0a8b8a",
   "metadata": {},
   "source": [
    "The PyVO method to get the columns will automatically fetch all the meta-data about those columns.  It's up to the service provider to set them correctly, of course, but in this case, we see that the column named \"MatchRA\" is identified with the UCD \"pos.eq.ra\".  \n",
    "\n",
    "So if we did not know the exact name used in HSCv3 for the RA, we could do something like this looking for the string \"RA\":"
   ]
  },
  {
   "cell_type": "code",
   "execution_count": 5,
   "id": "085c9ebf",
   "metadata": {},
   "outputs": [
    {
     "name": "stdout",
     "output_type": "stream",
     "text": [
      "['MatchRA', 'SourceRA']\n"
     ]
    }
   ],
   "source": [
    "ra_name=[c.name for c in columns if 'RA' in c.name or \"ascension\" in c.name.lower()]\n",
    "print(ra_name)"
   ]
  },
  {
   "cell_type": "markdown",
   "id": "e2b1afe3",
   "metadata": {},
   "source": [
    "But a more general approach is to check for the correct UCD.  It also has the further advantage that it can be used to label columns that should be used for certain purposes when there are multiple possibilities.  For instance, this table has MatchRA and SourceRA.  Let's check the UCD:  \n",
    "\n",
    "(Note that the UCD is not required.  If it isn't there, you get a None type, so code the check carefully)"
   ]
  },
  {
   "cell_type": "code",
   "execution_count": 6,
   "id": "16b2f739",
   "metadata": {},
   "outputs": [
    {
     "data": {
      "text/plain": [
       "('MatchRA', 'MatchDec')"
      ]
     },
     "execution_count": 6,
     "metadata": {},
     "output_type": "execute_result"
    }
   ],
   "source": [
    "ra_name=[c.name for c in columns if c.ucd and 'pos.eq.ra' in c.ucd][0]\n",
    "dec_name=[c.name for c in columns if c.ucd and 'pos.eq.dec' in c.ucd][0]\n",
    "ra_name,dec_name"
   ]
  },
  {
   "cell_type": "markdown",
   "id": "4c3b5135",
   "metadata": {},
   "source": [
    "What that shows you is that though there are two columns in this table that give RA information, only one has the 'pos.eq.ra' UCD. The documentation for this ought to explain the usage of these columns, and the UCD should not be used as a substitute for understanding the table. But it can be a useful tool."
   ]
  },
  {
   "cell_type": "markdown",
   "id": "aa9087c7",
   "metadata": {},
   "source": [
    "In particular, you can use the UCDs to look for catalogs that might have the information you're interested in. Then you can code the same query to work for different tables (with different column names) in a loop.  This sends a bunch of queries but doesn't take too long, a minute maybe. (One is particularly slow.)"
   ]
  },
  {
   "cell_type": "code",
   "execution_count": 7,
   "id": "36bc5996",
   "metadata": {},
   "outputs": [
    {
     "name": "stdout",
     "output_type": "stream",
     "text": [
      "Looking at service from ivo://cefca/j-plus/j-plus-dr1\n"
     ]
    },
    {
     "name": "stdout",
     "output_type": "stream",
     "text": [
      "    Table ivoa.ObsCore has the right columns.  Counting rows matching my time.\n",
      "    Found 6132 results from ivoa.ObsCore\n",
      "\n",
      "Looking at service from ivo://cefca/j-plus/j-plus-dr2\n"
     ]
    },
    {
     "name": "stdout",
     "output_type": "stream",
     "text": [
      "    Table ivoa.ObsCore has the right columns.  Counting rows matching my time.\n",
      "    Found 55363 results from ivoa.ObsCore\n",
      "\n",
      "Looking at service from ivo://cefca/j-plus/j-plus-dr3\n"
     ]
    },
    {
     "name": "stdout",
     "output_type": "stream",
     "text": [
      "    Table ivoa.ObsCore has the right columns.  Counting rows matching my time.\n",
      "    Found 82014 results from ivoa.ObsCore\n",
      "\n",
      "Looking at service from ivo://cefca/minijpas/minij-pas-pdr201912\n"
     ]
    },
    {
     "name": "stdout",
     "output_type": "stream",
     "text": [
      "    Table ivoa.ObsCore has the right columns.  Counting rows matching my time.\n",
      "    Found 240 results from ivoa.ObsCore\n",
      "\n",
      "Looking at service from ivo://cxc.harvard.edu/cda\n"
     ]
    },
    {
     "name": "stdout",
     "output_type": "stream",
     "text": [
      "    Table ivoa.ObsCore has the right columns.  Counting rows matching my time.\n"
     ]
    },
    {
     "name": "stdout",
     "output_type": "stream",
     "text": [
      "Problem executing query.  Continuing to next.\n",
      "    Table ivoa.obsplan has the right columns.  Counting rows matching my time.\n"
     ]
    },
    {
     "name": "stdout",
     "output_type": "stream",
     "text": [
      "Problem executing query.  Continuing to next.\n",
      "Looking at service from ivo://cxc.harvard.edu/csc\n"
     ]
    },
    {
     "name": "stdout",
     "output_type": "stream",
     "text": [
      "Looking at service from ivo://cxc.harvard.edu/cscr1\n"
     ]
    },
    {
     "name": "stdout",
     "output_type": "stream",
     "text": [
      "    Table csc1.obi_source has the right columns.  Counting rows matching my time.\n"
     ]
    },
    {
     "name": "stdout",
     "output_type": "stream",
     "text": [
      "Problem executing query.  Continuing to next.\n",
      "Looking at service from ivo://cxc.harvard.edu/cscr2\n"
     ]
    },
    {
     "name": "stdout",
     "output_type": "stream",
     "text": [
      "Looking at service from ivo://esavo/xmm/tap\n"
     ]
    },
    {
     "name": "stdout",
     "output_type": "stream",
     "text": [
      "Looking at service from ivo://eso.org/tap_cat\n"
     ]
    },
    {
     "name": "stderr",
     "output_type": "stream",
     "text": [
      "WARNING: W02: None:12357:4: W02: 'UNKNOWN' is not a valid datatype according to the VOSI spec [pyvo.io.vosi.vodataservice]\n",
      "WARNING: W02: None:12404:4: W02: 'UNKNOWN' is not a valid datatype according to the VOSI spec [pyvo.io.vosi.vodataservice]\n",
      "WARNING: W02: None:12583:4: W02: 'UNKNOWN' is not a valid datatype according to the VOSI spec [pyvo.io.vosi.vodataservice]\n",
      "WARNING: W02: None:12630:4: W02: 'UNKNOWN' is not a valid datatype according to the VOSI spec [pyvo.io.vosi.vodataservice]\n",
      "WARNING: W02: None:12677:4: W02: 'UNKNOWN' is not a valid datatype according to the VOSI spec [pyvo.io.vosi.vodataservice]\n",
      "WARNING: W02: None:12724:4: W02: 'UNKNOWN' is not a valid datatype according to the VOSI spec [pyvo.io.vosi.vodataservice]\n",
      "WARNING: W02: None:12771:4: W02: 'UNKNOWN' is not a valid datatype according to the VOSI spec [pyvo.io.vosi.vodataservice]\n",
      "WARNING: W02: None:12854:4: W02: 'UNKNOWN' is not a valid datatype according to the VOSI spec [pyvo.io.vosi.vodataservice]\n",
      "WARNING: W02: None:12901:4: W02: 'UNKNOWN' is not a valid datatype according to the VOSI spec [pyvo.io.vosi.vodataservice]\n",
      "WARNING: W02: None:12948:4: W02: 'UNKNOWN' is not a valid datatype according to the VOSI spec [pyvo.io.vosi.vodataservice]\n"
     ]
    },
    {
     "name": "stdout",
     "output_type": "stream",
     "text": [
      "    Table XQ_100_summary_fits_V1 has the right columns.  Counting rows matching my time.\n",
      "    Found 100 results from XQ_100_summary_fits_V1\n",
      "\n",
      "Looking at service from ivo://eso.org/tap_obs\n"
     ]
    },
    {
     "name": "stdout",
     "output_type": "stream",
     "text": [
      "    Table dbo.raw has the right columns.  Counting rows matching my time.\n",
      "Problem executing query.  Continuing to next.\n",
      "    Table dbo.ssa has the right columns.  Counting rows matching my time.\n"
     ]
    },
    {
     "name": "stdout",
     "output_type": "stream",
     "text": [
      "    Found 2097627 results from dbo.ssa\n",
      "\n",
      "    Table ivoa.ObsCore has the right columns.  Counting rows matching my time.\n"
     ]
    },
    {
     "name": "stdout",
     "output_type": "stream",
     "text": [
      "    Found 4042162 results from ivoa.ObsCore\n",
      "\n",
      "Looking at service from ivo://jvo/subaru/sxds/v1.0\n"
     ]
    },
    {
     "name": "stdout",
     "output_type": "stream",
     "text": [
      "Looking at service from ivo://xcatdb/3xmmdr5/tap\n",
      "Problem with this service's tables endpoint.  Continuing to next.\n",
      "Looking at service from ivo://xcatdb/4xmm/tap\n"
     ]
    },
    {
     "name": "stderr",
     "output_type": "stream",
     "text": [
      "WARNING: W02: None:72:4: W02: 'UNKNOWN' is not a valid datatype according to the VOSI spec [pyvo.io.vosi.vodataservice]\n",
      "WARNING: W02: None:91:4: W02: 'UNKNOWN' is not a valid datatype according to the VOSI spec [pyvo.io.vosi.vodataservice]\n",
      "WARNING: W02: None:104:4: W02: 'UNKNOWN' is not a valid datatype according to the VOSI spec [pyvo.io.vosi.vodataservice]\n",
      "WARNING: W02: None:123:4: W02: 'UNKNOWN' is not a valid datatype according to the VOSI spec [pyvo.io.vosi.vodataservice]\n",
      "WARNING: W02: None:305:4: W02: 'UNKNOWN' is not a valid datatype according to the VOSI spec [pyvo.io.vosi.vodataservice]\n",
      "WARNING: W02: None:378:4: W02: 'UNKNOWN' is not a valid datatype according to the VOSI spec [pyvo.io.vosi.vodataservice]\n",
      "WARNING: W02: None:747:4: W02: 'UNKNOWN' is not a valid datatype according to the VOSI spec [pyvo.io.vosi.vodataservice]\n",
      "WARNING: W02: None:753:4: W02: 'UNKNOWN' is not a valid datatype according to the VOSI spec [pyvo.io.vosi.vodataservice]\n",
      "WARNING: W02: None:853:4: W02: 'UNKNOWN' is not a valid datatype according to the VOSI spec [pyvo.io.vosi.vodataservice]\n",
      "WARNING: W02: None:1216:4: W02: 'UNKNOWN' is not a valid datatype according to the VOSI spec [pyvo.io.vosi.vodataservice]\n"
     ]
    }
   ],
   "source": [
    "#  Look for all TAP services with x-ray and optical data\n",
    "collection={}\n",
    "for s in vo.regsearch(servicetype='tap',keywords=['x-ray','optical']):\n",
    "    if \"wfau\" in s.ivoid:  continue #  These sometimes have issues\n",
    "    print(f\"Looking at service from {s.ivoid}\")\n",
    "    try:\n",
    "        tables=s.service.tables\n",
    "    except:\n",
    "        print(\"Problem with this service's tables endpoint.  Continuing to next.\")\n",
    "        continue\n",
    "    #  Find all the tables that have an RA,DEC and a start and end time\n",
    "    for t in tables:\n",
    "        names={}\n",
    "        for ucd in ['pos.eq.ra','pos.eq.dec','time.start','time.end']:\n",
    "            cols=[c.name for c in t.columns if c.ucd and ucd in c.ucd]\n",
    "            if len(cols) > 0:  \n",
    "                names[ucd]=cols[0]  # use the first that matches\n",
    "        if len(names.keys()) == 4:  \n",
    "            print(f\"    Table {t.name} has the right columns.  Counting rows matching my time.\")\n",
    "            #  For a first look, a very simple query counting rows in a \n",
    "            #  time range of interest:\n",
    "            query=f\"select count({names['time.start']}) from {t.name}\" \\\n",
    "                  f\" where {names['time.start']} > 52000 \" \n",
    "            try:\n",
    "                results=s.search(query)\n",
    "            except:\n",
    "                print(\"Problem executing query.  Continuing to next.\")\n",
    "                continue\n",
    "            #  For this simple query, the result is a single number, the count.  \n",
    "            #   But different services might name the result differently, so \n",
    "            #   don't assume you know the column  name.  \n",
    "            print(\"    Found {} results from {}\\n\".format(results.to_table()[0][0],t.name))\n",
    "            #  If the query above asked for the matching data rather than the\n",
    "            #  count, you might want to collect the results.  \n",
    "            #  Careful:  here we're assuming the table names are unique\n",
    "            collection[t.name]=results"
   ]
  },
  {
   "cell_type": "markdown",
   "id": "ef1f3d82",
   "metadata": {},
   "source": [
    "You can also use UCDs to look at the results.  Above, we collected just the first 10 rows of the four columns we're interested in from every catalog that had them.  But these tables still have their original column names.  So the UCDs will still be useful, and PyVO provides a simple routine to convert from UCD to column (field) name.  \n",
    "\n",
    "Note, however,  that returning the UCDs as part of the result is not mandatory, and some services do not do it.  So you'll have to check.\n",
    "\n",
    "Now we have a collection of rows from different tables with different columns.  In the results object, we have access to a fieldname_with_ucd() function to get the column you want.  Supposing we hadn't already looked for this in the above loop, let's now find out which of these tables has a magnitude column:"
   ]
  },
  {
   "cell_type": "code",
   "execution_count": 8,
   "id": "d23c9915",
   "metadata": {},
   "outputs": [
    {
     "name": "stdout",
     "output_type": "stream",
     "text": [
      "  (Table ivoa.ObsCore didn't find the UCD.)\n",
      "  (Table XQ_100_summary_fits_V1 didn't find the UCD.)\n",
      "  (Table dbo.ssa didn't find the UCD.)\n"
     ]
    }
   ],
   "source": [
    "#ucd='pos.eq.ra'\n",
    "ucd='phot.mag'\n",
    "for tname,results in collection.items():\n",
    "    #print(f\"On table {tname}\")\n",
    "    #  Sometimes this doesn't work well, so use a try:\n",
    "    try:\n",
    "        name=results.fieldname_with_ucd(ucd)\n",
    "    except:\n",
    "        pass\n",
    "    if name:\n",
    "        print(f\"  Table {tname} has the {ucd} column named {name}\")\n",
    "    else:\n",
    "        print(f\"  (Table {tname} didn't find the UCD.)\")"
   ]
  },
  {
   "cell_type": "markdown",
   "id": "3f88173e",
   "metadata": {},
   "source": [
    "Lastly, if you have a table of results from a TAP query (and if that service includes the UCDs), then you can get data based on UCDs with the getbyucd() method, which simply gets the corresponding element using fieldname_with_ucd():"
   ]
  },
  {
   "cell_type": "code",
   "execution_count": 9,
   "id": "2db46d10",
   "metadata": {},
   "outputs": [
    {
     "data": {
      "text/plain": [
       "[nan,\n",
       " 20.231000900268555,\n",
       " 20.659799575805664,\n",
       " 20.813199996948242,\n",
       " 21.020200729370117,\n",
       " 21.049100875854492,\n",
       " 20.983800888061523,\n",
       " 21.05500030517578,\n",
       " 21.337299346923828,\n",
       " 18.671100616455078]"
      ]
     },
     "execution_count": 9,
     "metadata": {},
     "output_type": "execute_result"
    }
   ],
   "source": [
    "results=hsc.service.search(\"select top 10 * from dbo.DetailedCatalog\")\n",
    "[r.getbyucd('phot.mag') for r in results]"
   ]
  },
  {
   "cell_type": "markdown",
   "id": "eb439458",
   "metadata": {},
   "source": [
    "Note that we can see earlier in this notebook, when we looked at this table's contents, that there are two phot.mag fields in this table, MagAper2 and MagAuto.  The getbyucd() and fieldname_with_ucd() routines do not currently allow you to handle multiple columns with the same UCD.  The code can help you find what you want, but it depends on the meta data the service defines, and you still must look at the detailed information for each catalog you use to understand what it contains."
   ]
  },
  {
   "cell_type": "code",
   "execution_count": null,
   "id": "c184ad8b",
   "metadata": {},
   "outputs": [],
   "source": []
  }
 ],
 "metadata": {
  "jupytext": {
   "notebook_metadata_filter": "all",
   "text_representation": {
    "extension": ".md",
    "format_name": "myst",
    "format_version": 0.13,
    "jupytext_version": "1.14.4"
   }
  },
  "kernelspec": {
   "display_name": "Python 3",
   "language": "python",
   "name": "python3"
  },
  "language_info": {
   "codemirror_mode": {
    "name": "ipython",
    "version": 3
   },
   "file_extension": ".py",
   "mimetype": "text/x-python",
   "name": "python",
   "nbconvert_exporter": "python",
   "pygments_lexer": "ipython3",
   "version": "3.10.13"
  },
  "source_map": [
   23,
   37,
   44,
   48,
   54,
   58,
   63,
   67,
   71,
   77,
   80,
   86,
   90,
   94,
   98,
   135,
   143,
   157,
   161,
   164,
   168
  ]
 },
 "nbformat": 4,
 "nbformat_minor": 5
}