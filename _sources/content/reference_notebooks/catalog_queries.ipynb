{
 "cells": [
  {
   "cell_type": "markdown",
   "id": "6f18de94",
   "metadata": {},
   "source": [
    "# Catalog Queries\n",
    "\n",
    "There are two ways to access astronomical data catalogs that are provided as table data with a VO API.\n",
    "\n",
    "First, there is a __[Simple Cone Search (SCS) protocol](http://www.ivoa.net/documents/latest/ConeSearch.html)__  used to search a given table with a given position and radius, getting back a table of results.  The interface requires only a position and search radius.\n",
    "\n",
    "For more complicated searches, the __[Table Access Protocol](http://www.ivoa.net/documents/TAP/)__ (TAP) protocol is  a powerful tool to search any VO table.  Here, we expand on its usage and that of the __[Astronomical Data Query Language](http://www.ivoa.net/documents/latest/ADQL.html)__ (ADQL) that it uses.\n",
    "\n",
    "- [Catalog Queries](#catalog-queries)\n",
    "  - [1. Simple cone search](#1-simple-cone-search)\n",
    "  - [2. Table Access Protocol queries](#2-table-access-protocol-queries)\n",
    "    - [2.1 TAP services](#21-tap-services)\n",
    "    - [2.2 Expressing queries in ADQL](#22-expressing-queries-in-adql)\n",
    "    - [2.3 A use case](#23-a-use-case)\n",
    "    - [2.4 TAP examples for a given service](#24-tap-examples-for-a-given-service)\n",
    "  - [3. Using the TAP to cross-correlate and combine](#3-using-the-tap-to-cross-correlate-and-combine)\n",
    "    - [3.1 Cross-correlating to combine catalogs](#31-cross-correlating-to-combine-catalogs)\n",
    "    - [3.2 Cross-correlating with user-defined columns](#32-cross-correlating-with-user-defined-columns)\n",
    "  - [4. Synchronous versus asynchronous queries](#4-synchronous-versus-asynchronous-queries)"
   ]
  },
  {
   "cell_type": "code",
   "execution_count": 1,
   "id": "10ccace7",
   "metadata": {},
   "outputs": [],
   "source": [
    "# suppress some specific warnings that are not important\n",
    "import warnings\n",
    "warnings.filterwarnings(\"ignore\", module=\"astropy.io.votable.*\")\n",
    "warnings.filterwarnings(\"ignore\", module=\"pyvo.utils.xml.*\")\n",
    "\n",
    "import io\n",
    "import numpy as np\n",
    "\n",
    "# Astropy imports\n",
    "import astropy.units as u\n",
    "import astropy.constants as const\n",
    "from astropy.coordinates import SkyCoord\n",
    "from astropy.cosmology import Planck15\n",
    "from astropy.io import votable as apvot\n",
    "import scipy.integrate\n",
    "\n",
    "## Generic VO access routines\n",
    "import pyvo as vo"
   ]
  },
  {
   "cell_type": "markdown",
   "id": "3b07463b",
   "metadata": {},
   "source": [
    "## 1. Simple cone search"
   ]
  },
  {
   "cell_type": "markdown",
   "id": "6e5db69b",
   "metadata": {},
   "source": [
    "Starting with a single simple source first:"
   ]
  },
  {
   "cell_type": "code",
   "execution_count": 2,
   "id": "bd66e45f",
   "metadata": {},
   "outputs": [
    {
     "name": "stdout",
     "output_type": "stream",
     "text": [
      "<SkyCoord (ICRS): (ra, dec) in deg\n",
      "    (202.469575, 47.1952583)>\n"
     ]
    }
   ],
   "source": [
    "coord = SkyCoord.from_name(\"m51\")\n",
    "print(coord)"
   ]
  },
  {
   "cell_type": "markdown",
   "id": "5603c673",
   "metadata": {},
   "source": [
    "Below, we go through the exercise of how we can figure out the most relevant table. But for now, let's assume that we know that we want the CFA redshift catalog refered to as 'zcat'. VO services are listed in a central Registry that can be searched through a [web interface](http://vao.stsci.edu/keyword-search/) or using PyVO's `regsearch`.  We use the registry to find the corresponding cone service and then submit our cone search.\n",
    "\n",
    "Registry services are of the following type:\n",
    "\n",
    "- simple cone search:  \"scs\"\n",
    "- table access protocol:  \"tap\" or \"table\"\n",
    "- simple image search:  \"sia\" or \"sia2\" for SIAv2 services\n",
    "- simple spectral access: \"ssa\"\n",
    "\n",
    "There are a number of things in the registry related to 'zcat' so we find the specific one that we want, which is the CFA version:"
   ]
  },
  {
   "cell_type": "code",
   "execution_count": 3,
   "id": "be414610",
   "metadata": {},
   "outputs": [
    {
     "data": {
      "text/html": [
       "<div><i>Table length=6</i>\n",
       "<table id=\"table140714640481136\" class=\"table-striped table-bordered table-condensed\">\n",
       "<thead><tr><th>ivoid</th><th>short_name</th><th>res_title</th></tr></thead>\n",
       "<thead><tr><th>object</th><th>object</th><th>object</th></tr></thead>\n",
       "<tr><td>ivo://cds.vizier/j/mnras/339/652</td><td>J/MNRAS/339/652</td><td>The FLASH Redshift Survey</td></tr>\n",
       "<tr><td>ivo://cds.vizier/vii/259</td><td>VII/259</td><td>6dF galaxy survey final redshift release</td></tr>\n",
       "<tr><td>ivo://nasa.heasarc/sixdfgs</td><td>SIXDFGS</td><td>6dFGS Galaxy Survey Final Redshift Release Catalog</td></tr>\n",
       "<tr><td>ivo://nasa.heasarc/uzc</td><td>UZC</td><td>Updated Zwicky Catalog</td></tr>\n",
       "<tr><td>ivo://nasa.heasarc/zcat</td><td>CFAZ</td><td>CfA Redshift Catalog (June 1995 Version)</td></tr>\n",
       "<tr><td>ivo://wfau.roe.ac.uk/twompz-dsa</td><td></td><td>2MASS Photometric Redshift catalogue (2MPZ)</td></tr>\n",
       "</table></div>"
      ],
      "text/plain": [
       "<Table length=6>\n",
       "             ivoid               ...\n",
       "             object              ...\n",
       "-------------------------------- ...\n",
       "ivo://cds.vizier/j/mnras/339/652 ...\n",
       "        ivo://cds.vizier/vii/259 ...\n",
       "      ivo://nasa.heasarc/sixdfgs ...\n",
       "          ivo://nasa.heasarc/uzc ...\n",
       "         ivo://nasa.heasarc/zcat ...\n",
       " ivo://wfau.roe.ac.uk/twompz-dsa ..."
      ]
     },
     "execution_count": 3,
     "metadata": {},
     "output_type": "execute_result"
    }
   ],
   "source": [
    "services = vo.regsearch(servicetype='scs', keywords=['zcat'])\n",
    "services.to_table()['ivoid', 'short_name', 'res_title']"
   ]
  },
  {
   "cell_type": "markdown",
   "id": "9199b029",
   "metadata": {},
   "source": [
    "Supposing that we want the table with the short_name CFAZ, and we want to retrieve the data for all sources within an arcminute of our specified location:"
   ]
  },
  {
   "cell_type": "code",
   "execution_count": 4,
   "id": "63e110ea",
   "metadata": {},
   "outputs": [
    {
     "data": {
      "text/html": [
       "<div><i>Table length=2</i>\n",
       "<table id=\"table140714641170656\" class=\"table-striped table-bordered table-condensed\">\n",
       "<thead><tr><th>__row</th><th>name</th><th>ra</th><th>dec</th><th>bmag</th><th>radial_velocity</th><th>radial_velocity_error</th><th>redshift</th><th>class</th><th>Search_Offset</th></tr></thead>\n",
       "<thead><tr><th></th><th></th><th>deg</th><th>deg</th><th></th><th>km / s</th><th>km / s</th><th></th><th></th><th></th></tr></thead>\n",
       "<thead><tr><th>object</th><th>object</th><th>float64</th><th>float64</th><th>float32</th><th>int32</th><th>int16</th><th>float64</th><th>int16</th><th>float64</th></tr></thead>\n",
       "<tr><td>52427</td><td>N5194</td><td>202.46823</td><td>47.19815</td><td>9.03</td><td>474</td><td>23</td><td>--</td><td>6200</td><td>0.1819</td></tr>\n",
       "<tr><td>52452</td><td>N5195</td><td>202.49491</td><td>47.26792</td><td>10.94</td><td>558</td><td>23</td><td>--</td><td>6200</td><td>4.4802</td></tr>\n",
       "</table></div>"
      ],
      "text/plain": [
       "<Table length=2>\n",
       "__row   name      ra      dec    ... redshift class Search_Offset\n",
       "                 deg      deg    ...                             \n",
       "object object  float64  float64  ... float64  int16    float64   \n",
       "------ ------ --------- -------- ... -------- ----- -------------\n",
       " 52427  N5194 202.46823 47.19815 ...       --  6200        0.1819\n",
       " 52452  N5195 202.49491 47.26792 ...       --  6200        4.4802"
      ]
     },
     "execution_count": 4,
     "metadata": {},
     "output_type": "execute_result"
    }
   ],
   "source": [
    "## Use the one that's CFAZ.\n",
    "##  Use list comprehension to check each service's short_name attribute and use the first.\n",
    "cfaz_cone_service = [s for s in services if 'CFAZ' in s.short_name][0]\n",
    "\n",
    "## We are searching for sources within 10 arcminutes of M51.\n",
    "results = cfaz_cone_service.search(pos=coord, radius=10*u.arcmin)\n",
    "results.to_table()"
   ]
  },
  {
   "cell_type": "markdown",
   "id": "23bd3163",
   "metadata": {},
   "source": [
    "The SCS is quite straightforward and returns all of the columns of the given table (which can be anything) for the sources in the region queried."
   ]
  },
  {
   "cell_type": "markdown",
   "id": "6dca5706",
   "metadata": {},
   "source": [
    "## 2. Table Access Protocol queries\n",
    "\n",
    "A TAP query is the most powerful way to search a catalog. A Simple Cone Search only allows you to ask for a position and radius, but TAP allows you to do much more, since the available tables contain much more information."
   ]
  },
  {
   "cell_type": "markdown",
   "id": "556713a8",
   "metadata": {},
   "source": [
    "### 2.1 TAP services\n",
    "\n",
    "Many services list a single TAP service in the Registry that can access many catalogs, boosting your efficiency, and letting you add constraints based on any column. This is the power of the TAP!\n",
    "\n",
    "Suppose for our example, we want to select bright galaxy candidates but don't know the coordinates. Therefore, we start from figuring out the best table to query."
   ]
  },
  {
   "cell_type": "markdown",
   "id": "222bcb63",
   "metadata": {},
   "source": [
    "As before, we use the `vo.regsearch()` for a servicetype 'tap'.  There are a lot of TAP services in the registry, but they are listed slightly differently than cone services.  The metadata on each catalog is usually published in the registry with its cone service, and then the full TAP service is listed as an \"auxiliary\" service.  So to find a TAP service for a given catalog, we need to add the option *includeaux=True*. Alternatively, you can start with a single TAP service and then ask it specifically which tables it serves, but for this use case, that is less efficient.\n",
    "\n",
    "We'll first do a registry search for all auxiliary TAP services related to the \"CfA\" and \"redshift\"."
   ]
  },
  {
   "cell_type": "code",
   "execution_count": 5,
   "id": "a8ba0450",
   "metadata": {},
   "outputs": [
    {
     "data": {
      "text/html": [
       "<div><i>Table length=20</i>\n",
       "<table id=\"table140715758368464\" class=\"table-striped table-bordered table-condensed\">\n",
       "<thead><tr><th>ivoid</th><th>short_name</th><th>res_title</th></tr></thead>\n",
       "<thead><tr><th>object</th><th>object</th><th>object</th></tr></thead>\n",
       "<tr><td>ivo://cds.vizier/j/a+a/408/905</td><td>J/A+A/408/905</td><td>Very Luminous Galaxies</td></tr>\n",
       "<tr><td>ivo://cds.vizier/j/a+a/506/1477</td><td>J/A+A/506/1477</td><td>Radio source distribution</td></tr>\n",
       "<tr><td>ivo://cds.vizier/j/a+a/679/a95</td><td>J/A+A/679/A95</td><td>Type Ia infrared data</td></tr>\n",
       "<tr><td>ivo://cds.vizier/j/a+as/139/525</td><td>J/A+AS/139/525</td><td>Abell 496 heliocentric velocities</td></tr>\n",
       "<tr><td>ivo://cds.vizier/j/aj/109/1458</td><td>J/AJ/109/1458</td><td>Neighborhoods of 36 loose groups of galaxies</td></tr>\n",
       "<tr><td>ivo://cds.vizier/j/aj/109/2368</td><td>J/AJ/109/2368</td><td>Redshifts in First CfA Slice. III.</td></tr>\n",
       "<tr><td>ivo://cds.vizier/j/aj/112/1803</td><td>J/AJ/112/1803</td><td>Large Scale Structure</td></tr>\n",
       "<tr><td>ivo://cds.vizier/j/aj/147/99</td><td>J/AJ/147/99</td><td>Spectroscopy of 73 stripped core-collapse supernovae</td></tr>\n",
       "<tr><td>ivo://cds.vizier/j/apj/655/790</td><td>J/ApJ/655/790</td><td>Groups of galaxies in 2MASS survey</td></tr>\n",
       "<tr><td>ivo://cds.vizier/j/apj/885/85</td><td>J/ApJ/885/85</td><td>Automated DASH classification for supernovae</td></tr>\n",
       "<tr><td>ivo://cds.vizier/j/apjs/119/277</td><td>J/ApJS/119/277</td><td>-3.5&lt;=DE&lt;=8.5, 11.5&lt;RA&lt;13.5 redshift survey</td></tr>\n",
       "<tr><td>ivo://cds.vizier/j/apjs/121/287</td><td>J/ApJS/121/287</td><td>The CfA2S catalog</td></tr>\n",
       "<tr><td>ivo://cds.vizier/j/apjs/213/19</td><td>J/ApJS/213/19</td><td>Optical and near-IR light curves of 64 SNe</td></tr>\n",
       "<tr><td>ivo://cds.vizier/j/pasp/111/438</td><td>J/PASP/111/438</td><td>Updated Zwicky catalog (UZC)</td></tr>\n",
       "<tr><td>ivo://cds.vizier/vii/193</td><td>VII/193</td><td>The CfA Redshift Catalogue, Version June 1995</td></tr>\n",
       "<tr><td>ivo://cds.vizier/vii/84a</td><td>VII/84A</td><td>Groups of Galaxies. III. The CfA Survey</td></tr>\n",
       "<tr><td>ivo://nasa.heasarc/cfa2s</td><td>CfARed.S.</td><td>CfA Redshift Survey: South Galactic Cap Data</td></tr>\n",
       "<tr><td>ivo://nasa.heasarc/rasscals</td><td>RASS-CALS</td><td>ROSAT All-Sky Survey CALS Galaxy Groups Catalog</td></tr>\n",
       "<tr><td>ivo://nasa.heasarc/uzc</td><td>UZC</td><td>Updated Zwicky Catalog</td></tr>\n",
       "<tr><td>ivo://nasa.heasarc/zcat</td><td>CFAZ</td><td>CfA Redshift Catalog (June 1995 Version)</td></tr>\n",
       "</table></div>"
      ],
      "text/plain": [
       "<Table length=20>\n",
       "             ivoid              ...\n",
       "             object             ...\n",
       "------------------------------- ...\n",
       " ivo://cds.vizier/j/a+a/408/905 ...\n",
       "ivo://cds.vizier/j/a+a/506/1477 ...\n",
       " ivo://cds.vizier/j/a+a/679/a95 ...\n",
       "ivo://cds.vizier/j/a+as/139/525 ...\n",
       " ivo://cds.vizier/j/aj/109/1458 ...\n",
       " ivo://cds.vizier/j/aj/109/2368 ...\n",
       " ivo://cds.vizier/j/aj/112/1803 ...\n",
       "   ivo://cds.vizier/j/aj/147/99 ...\n",
       " ivo://cds.vizier/j/apj/655/790 ...\n",
       "  ivo://cds.vizier/j/apj/885/85 ...\n",
       "ivo://cds.vizier/j/apjs/119/277 ...\n",
       "ivo://cds.vizier/j/apjs/121/287 ...\n",
       " ivo://cds.vizier/j/apjs/213/19 ...\n",
       "ivo://cds.vizier/j/pasp/111/438 ...\n",
       "       ivo://cds.vizier/vii/193 ...\n",
       "       ivo://cds.vizier/vii/84a ...\n",
       "       ivo://nasa.heasarc/cfa2s ...\n",
       "    ivo://nasa.heasarc/rasscals ...\n",
       "         ivo://nasa.heasarc/uzc ...\n",
       "        ivo://nasa.heasarc/zcat ..."
      ]
     },
     "execution_count": 5,
     "metadata": {},
     "output_type": "execute_result"
    }
   ],
   "source": [
    "tap_services = vo.regsearch(servicetype='tap', keywords=['cfa redshift'], includeaux=True)\n",
    "tap_services.to_table()['ivoid', 'short_name', 'res_title']"
   ]
  },
  {
   "cell_type": "markdown",
   "id": "6ac3617f",
   "metadata": {},
   "source": [
    "There are many tables that mention these keywords. Pick some likely looking ones and look at the descriptions:"
   ]
  },
  {
   "cell_type": "code",
   "execution_count": 6,
   "id": "507d8b3f",
   "metadata": {},
   "outputs": [
    {
     "name": "stdout",
     "output_type": "stream",
     "text": [
      "ivo://cds.vizier/j/aj/109/2368:  We have measured redshifts for 241 galaxies selected from the Zwicky catalog with magnitudes 15.6 or 15.7 in the region (26.5deg<=delta<=32.5deg, 8h<=alpha=<17h). This region is the original CfA \"Slice of the Universe\", which was complete to 15.5; now nearly all Zwicky-catalog galaxies in the region have measured redshifts. These somewhat fainter galaxies outline the same structures as the brighter ones. By examinating a sample of 27 galaxies within the most prominent void we find (1) the fraction of absorption-line galaxies is typical of regions outside the cores of rich clusters; and (2) the local morphology-density relation holds within the globally underdense void.\n",
      "\n",
      "ivo://cds.vizier/j/apjs/121/287:  We present redshifts for a sample of 4391 galaxies with magnitude m_B(0)_<=15.5 covering 20h<=RA<=4h in right ascension and -2.5{deg}<=DE<=90{deg} in declination. This sample is complete for all galaxies in the merge of the Zwicky et al. and Nilson catalogs in the south Galactic cap. Redshifts for 2964 of these were measured as part of the second CfA Redshift Survey. The data reveal large voids in the foreground and background of the Perseus-Pisces Supercluster. The largest of these voids lies at a mean velocity ~8000km/s, has diameter ~5000km/s, and is enclosed by a complex of dense structures. The large structure known as the Perseus-Pisces Supercluster forms the near side of this complex. On the far side of this large void, at a mean velocity ~12000km/s, there is another coherent dense wall. The structures in this survey support the view that galaxies generally lie on surfaces surrounding or nearly surrounding low-density regions or voids.\n",
      "\n",
      "ivo://cds.vizier/vii/193:  The catalog (files zcat.dat and zbig.dat) incorporates much of the latest velocity data from the Whipple Observatory and other sources as well as velocities from earlier compilations such as the Second Reference Catalogue of de Vaucouleurs, de Vaucouleurs, and Corwin; the Index of Galaxy Spectra of Gisler and Friel, and the Catalogue of Radial Velocities of Galaxies of Palumbo, Tanzella-Nitti, and Vettolani. The data included here are BT magnitudes and a few UGC numbers with increased \"accuracy\" in the velocity source information. The following separate tables contain selected objects from the CfA Redshift Survey: - the first CfA Redsdhift Survey (Huchra et al., 1983ApJS...52...89H); this catalogue contains 2395 galaxies, a number slightly smaller than the published number of 2399, since there have been small corrections to the magnitudes for multiple galaxies. This version has had new morphological types added by me as well as POSS diameters measured for those galaxies that were not in the UGC or did not have UGC diameters. - the first slice of the second CfA redshift survey (Huchra et al., 1990ApJS...72..433H) - the second slice of the CfA redshift survey (Huchra et al., 1995ApJS...99..391H) See the complete description in 'zcom.tex' (in plain TeX), or zcom.txt (plain ascii)\n",
      "\n",
      "ivo://cds.vizier/vii/84a:  The catalog contains statistically homogeneous groups of galaxies based on the Harvard-Smithsonian Center for Astrophysics (CfA) redshift survey. Groups in the catalog are all density enhancements in redshift space of a factor greater than 20. All groups contain at least three members. There are 176 groups in the catalog and 102 groups have been identified in one or more previous studies. The catalog includes group numbers, numbers of members, equatorial coordinates, mean flow-corrected galactocentric velocities, line-of-sight-velocity dispersion, integrated group magnitudes, crossing times for the groups, and mean harmonic radii of the groups.\n",
      "\n",
      "ivo://nasa.heasarc/cfa2s:  The Center for Astrophysics (CfA) Redshift Survey South Galactic Cap (CFA2S) Catalog contains redshifts for a sample of about 4300 galaxies with blue (Zwicky B(0) type) magnitude &lt;= 15.5 covering the range from 20 h to 4h in right ascension and from -2.5 deg to 90 deg in declination. This sample is complete for all galaxies in the merge of the Zwicky et al. and Nilson catalogs in the south Galactic cap. Redshifts for 2964 of these were measured as part of the second CfA Redshift Survey. The data reveal large voids in the foreground and background of the Perseus-Pisces Supercluster. The largest of these voids lies at a mean velocity ~ 8000km/s, has diameter of ~ 5000km/s, and is enclosed by a complex of dense structures. The large structure known as the Perseus-Pisces Supercluster forms the near side of this complex. On the far side of this large void, at a mean velocity of ~ 12000km/s, there is another coherent dense wall. The structures in this survey support the view that galaxies generally lie on surfaces surrounding or nearly surrounding low-density regions or voids. This table was created by the HEASARC in March 2005 based on CDS table J/ApJS/121/287/cfa2s.dat.gz This is a service provided by NASA HEASARC .\n",
      "\n",
      "ivo://nasa.heasarc/zcat:  The ZCAT database contains the CfA Redshift Catalog, which incorporates much of the latest velocity data from the Whipple Observatory and other sources, as well as velocities from earlier compilations such as the &quot;Second Reference Catalog&quot; of de Vaucouleurs, de Vaucouleurs, and Corwin; the &quot;Index of Galaxy Spectra&quot; of Gisler and Friel; and the &quot;Catalog of Radial Velocities of Galaxies&quot; of Palumbo, Tanzella-Nitti, and Vettolani. It includes BT magnitudes, some UGC numbers, and increased &quot;accuracy&quot; in the velocity source information. The data presented here have primarily been assembled for the purpose of studying the large scale structure of the universe, and, as such, are nearly complete in redshift information, but are not necessarily complete in such categories as diameter, magnitude, and cross-references to other catalogues. The original HEASARC version was constructed based on an earlier version of the catalog and was released on November 15, 1996. The HEASARC created the current version of ZCAT in February 2001 based on CDS/ADC Catalog VII/193, &quot;The CfA Redshift Catalogue&quot;, Version June 1995, tables &lt;a href=\"https://cdsarc.cds.unistra.fr/ftp/cats/VII/193/zcat.dat\"&gt;https://cdsarc.cds.unistra.fr/ftp/cats/VII/193/zcat.dat&lt;/a&gt; and zbig.dat. The former table contains the main body of the CFA Redshift Catalog (57536 objects) and entries from it are distinguishable in the current database by having either listed radial velocity values but not redshifts or neither, while the latter table contains 1202 high-redshift galaxies (distinguishable in the current database by their having listed redshift values but not radial velocities). This is a service provided by NASA HEASARC .\n",
      "\n"
     ]
    }
   ],
   "source": [
    "for t in tap_services:\n",
    "    if \"cfa\" in t.res_title.lower() and \"magnitude\" in t.res_description.lower():\n",
    "        print(f\"{t.ivoid}:  {t.res_description}\\n\")"
   ]
  },
  {
   "cell_type": "markdown",
   "id": "0a644ffa",
   "metadata": {},
   "source": [
    "From the above information, you can choose the table you want and then use the specified TAP service to query it as described below.\n",
    "\n",
    "But first we'll look at the other way of finding tables to query with TAP:  by starting with the TAP services listed individually in the Registry.  We see above that the HEASARC has the ZCAT, so what else does it have?"
   ]
  },
  {
   "cell_type": "markdown",
   "id": "136173b8",
   "metadata": {},
   "source": [
    "You can find out which tables a TAP serves and then look at the tables descriptions. The last line here sends a query directly to the service to ask it for a list of tables.  (This can take a minute, since there may be a lot of tables.)"
   ]
  },
  {
   "cell_type": "code",
   "execution_count": 7,
   "id": "be9ea620",
   "metadata": {},
   "outputs": [],
   "source": [
    "#  Here, we're looking for a specific service, and we don't need the includeaux option:\n",
    "tap_services = vo.regsearch(servicetype='tap',keywords=['heasarc'])\n",
    "heasarc = tap_services[0]\n",
    "heasarc_tables=heasarc.service.tables"
   ]
  },
  {
   "cell_type": "markdown",
   "id": "c2224743",
   "metadata": {},
   "source": [
    "Then let's look for tables matching the terms we're interested in as above."
   ]
  },
  {
   "cell_type": "code",
   "execution_count": 8,
   "id": "6d43bc21",
   "metadata": {},
   "outputs": [
    {
     "name": "stdout",
     "output_type": "stream",
     "text": [
      "abellzcat\n",
      "    Abell Clusters Measured Redshifts Catalog\n",
      "\n",
      "Columns=['\"__row\"', '\"__x_ra_dec\"', '\"__y_ra_dec\"', '\"__z_ra_dec\"', 'abell_distance_class', 'abell_radius', 'abell_richness_class', 'bautz_morgan_class', 'bautz_morgan_flag', 'bii', 'class', 'dec', 'lii', 'log_redshift_ratio', 'mag_10', 'name', 'ra', 'redshift', 'redshift_flag', 'ref_redshift']\n",
      "----\n",
      "atlasspecz\n",
      "    AT Large Area Survey (ATLAS) Spectroscopic Classes & Redshifts C\n",
      "\n",
      "Columns=['\"__row\"', '\"__x_ra_dec\"', '\"__y_ra_dec\"', '\"__z_ra_dec\"', 'abs_rmag', 'bii', 'bmag', 'broad_type', 'dec', 'flux_1p4_ghz', 'lii', 'log_lum_1p4_ghz', 'name', 'ra', 'redshift', 'rmag', 'source_id']\n",
      "----\n",
      "ccosmphotz\n",
      "    Chandra COSMOS (C-COSMOS) Survey Photometric Redshift Catalog\n",
      "\n",
      "Columns=['\"__row\"', '\"__x_ra_dec\"', '\"__y_ra_dec\"', '\"__z_ra_dec\"', 'best_fit_template', 'bii', 'dec', 'ilbert_source_number', 'lii', 'morph_class', 'name', 'phot_redshift', 'phot_redshift_max', 'phot_redshift_min', 'ra', 'redshift_pdf', 'source_number', 'variability']\n",
      "----\n",
      "cfa2s\n",
      "    CfA Redshift Survey: South Galactic Cap Data\n",
      "\n",
      "Columns=['\"__row\"', '\"__x_ra_dec\"', '\"__y_ra_dec\"', '\"__z_ra_dec\"', 'bar_type', 'bii', 'bmag', 'class', 'dec', 'lii', 'luminosity_class', 'major_axis', 'minor_axis', 'morph_type', 'name', 'notes', 'peculiar_type', 'ra', 'radial_velocity', 'radial_velocity_error', 'ref_bmag', 'ref_radial_velocity', 'ugc_multiplicity', 'ugc_number']\n",
      "----\n",
      "iraspscz\n",
      "    IRAS Point Source Catalog Redshift (PSCz) Catalog\n",
      "\n",
      "Columns=['\"__row\"', '\"__x_ra_dec\"', '\"__y_ra_dec\"', '\"__z_ra_dec\"', 'alt_name', 'bii', 'class', 'dec', 'flux_60um', 'hex_hsd_flag', 'lii', 'lune_bin_100_um_bck', 'lune_bin_bmag_extinction', 'lune_bin_number', 'name', 'number_hcon_coverages', 'optical_class_code', 'ra', 'radial_velocity', 'radial_velocity_error', 'ratio_100_to_60_um_flux', 'redshift_status', 'ref_radial_velocity', 'source_sample', 'source_type']\n",
      "----\n",
      "iraszsurv\n",
      "    IRAS 1.2-Jy Redshift Survey\n",
      "\n",
      "Columns=['\"__row\"', '\"__x_ra_dec\"', '\"__y_ra_dec\"', '\"__z_ra_dec\"', 'bii', 'cirrus_flag', 'class', 'comments', 'dec', 'extend_flag', 'helio_velocity', 'helio_velocity_error', 'lii', 'micron_flux_100', 'micron_flux_100_flag', 'micron_flux_12', 'micron_flux_12_flag', 'micron_flux_25', 'micron_flux_25_flag', 'micron_flux_60', 'micron_flux_60_flag', 'name', 'obj_id_flag', 'opt_mag', 'psc_id', 'ra', 'source', 'spectrum_flag', 't_type', 'ugc_or_eso_number', 'var_flag']\n",
      "----\n",
      "lcrscat\n",
      "    Las Campanas Redshift Survey Catalog\n",
      "\n",
      "Columns=['\"__row\"', '\"__x_ra_dec\"', '\"__y_ra_dec\"', '\"__z_ra_dec\"', 'bii', 'broad_type', 'central_mag', 'class', 'dec', 'drift_scan', 'field_name', 'gsf_product', 'isophotal_mag', 'lii', 'name', 'nearby_radial_velocity', 'phot_cat_obj_num', 'ra', 'radial_velocity', 'radial_velocity_error', 'sf_product', 'spect_fiber']\n",
      "----\n",
      "lowzvlqvla\n",
      "    VLA 6-GHz Observations of Low-Redshift SDSS QSOs\n",
      "\n",
      "Columns=['\"__row\"', '\"__x_ra_dec\"', '\"__y_ra_dec\"', '\"__z_ra_dec\"', 'abs_imag', 'bii', 'dec', 'flux_6_ghz', 'flux_6_ghz_error', 'imag', 'int_flux_6_ghz', 'int_flux_6_ghz_error', 'lii', 'log_luminosity_6_ghz', 'name', 'off_set', 'peak_over_int_ratio', 'ra', 'radio_over_iband_ratio', 'redshift']\n",
      "----\n",
      "planckhzsc\n",
      "    Planck High-Redshift Source Candidates Catalog\n",
      "\n",
      "Columns=['\"__row\"', '\"__x_ra_dec\"', '\"__y_ra_dec\"', '\"__z_ra_dec\"', 'bii', 'cc_sel_prob', 'dec', 'e_bv_aperture', 'e_bv_aperture_error', 'e_bv_mean', 'fir_lum_25k', 'fir_lum_25k_neg_err', 'fir_lum_25k_pos_err', 'fir_lum_30k', 'fir_lum_30k_neg_err', 'fir_lum_30k_pos_err', 'fir_lum_35k', 'fir_lum_35k_neg_err', 'fir_lum_35k_pos_err', 'fir_lum_40k', 'fir_lum_40k_neg_err', 'fir_lum_40k_pos_err', 'fir_lum_45k', 'fir_lum_45k_neg_err', 'fir_lum_45k_pos_err', 'fir_lum_50k', 'fir_lum_50k_neg_err', 'fir_lum_50k_pos_err', 'flux_217_ghz', 'flux_217_ghz_fit_err', 'flux_217_ghz_meas_err', 'flux_217_ghz_sky_err', 'flux_353_ghz', 'flux_353_ghz_fit_err', 'flux_353_ghz_meas_err', 'flux_353_ghz_sky_err', 'flux_545_ghz', 'flux_545_ghz_fit_err', 'flux_545_ghz_meas_err', 'flux_545_ghz_sky_err', 'flux_857_ghz', 'flux_857_ghz_fit_err', 'flux_857_ghz_meas_err', 'flux_857_ghz_sky_err', 'herschel_flag', 'lii', 'major_axis', 'major_axis_error', 'matching_planck_catalogs', 'minor_axis', 'minor_axis_error', 'name', 'phot_redshift_25', 'phot_redshift_25_chi2', 'phot_redshift_25_neg_err', 'phot_redshift_25_pos_err', 'phot_redshift_30', 'phot_redshift_30_chi2', 'phot_redshift_30_neg_err', 'phot_redshift_30_pos_err', 'phot_redshift_35', 'phot_redshift_35_chi2', 'phot_redshift_35_neg_err', 'phot_redshift_35_pos_err', 'phot_redshift_40', 'phot_redshift_40_chi2', 'phot_redshift_40_neg_err', 'phot_redshift_40_pos_err', 'phot_redshift_45', 'phot_redshift_45_chi2', 'phot_redshift_45_neg_err', 'phot_redshift_45_pos_err', 'phot_redshift_50', 'phot_redshift_50_chi2', 'phot_redshift_50_neg_err', 'phot_redshift_50_pos_err', 'position_angle', 'position_angle_error', 'ra', 'sfr_25k', 'sfr_25k_neg_err', 'sfr_25k_pos_err', 'sfr_30k', 'sfr_30k_neg_err', 'sfr_30k_pos_err', 'sfr_35k', 'sfr_35k_neg_err', 'sfr_35k_pos_err', 'sfr_40k', 'sfr_40k_neg_err', 'sfr_40k_pos_err', 'sfr_45k', 'sfr_45k_neg_err', 'sfr_45k_pos_err', 'sfr_50k', 'sfr_50k_neg_err', 'sfr_50k_pos_err', 'snr_353_ghz', 'snr_545_ghz', 'snr_857_ghz', 'snr_excess_545_ghz']\n",
      "----\n",
      "sixdfgs\n",
      "    6dFGS Galaxy Survey Final Redshift Release Catalog\n",
      "\n",
      "Columns=['\"__row\"', '\"__x_ra_dec\"', '\"__y_ra_dec\"', '\"__z_ra_dec\"', 'av', 'bii', 'bj_mag', 'dec', 'lii', 'name', 'name_redshift_field', 'num_highq_measure', 'num_total_measures', 'original_weight', 'program_id', 'ra', 'radial_velocity', 'radial_velocity_compflag', 'radial_velocity_error', 'radial_velocity_qualflag', 'ref_radial_velocity', 'rf_mag', 'specid_values', 'supercosmos_class', 'target_id', 'template_code']\n",
      "----\n",
      "twodfqsoz\n",
      "    2dF QSO Redshift (2QZ) Survey\n",
      "\n",
      "Columns=['\"__row\"', '\"__x_ra_dec\"', '\"__y_ra_dec\"', '\"__z_ra_dec\"', 'apm_x_pos', 'apm_y_pos', 'bii', 'bj_mag', 'bj_r_color', 'broad_type_1', 'broad_type_2', 'class', 'comment_spectrum_1', 'comment_spectrum_2', 'dec', 'fiber_number_1', 'fiber_number_2', 'field_spect_number_1', 'field_spect_number_2', 'flux_20_cm', 'internal_name', 'lii', 'name', 'num_obs', 'previous_redshift', 'quality_flag_1', 'quality_flag_2', 'ra', 'rass_flux', 'reddening', 'redshift_1', 'redshift_2', 'sector_name', 'snr_spectrum_1', 'snr_spectrum_2', 'source_number', 'spectrum_1_date', 'spectrum_2_date', 'u_bj_color', 'ukst_field_number']\n",
      "----\n",
      "twomassrsc\n",
      "    2MASS Redshift Survey (2MRS) Catalog\n",
      "\n",
      "Columns=['\"__row\"', '\"__x_ra_dec\"', '\"__y_ra_dec\"', '\"__z_ra_dec\"', 'alt_name', 'axis_ratio', 'bii', 'dec', 'hmag_0', 'hmag_0_error', 'hmag_0_tot', 'hmag_0_tot_error', 'jmag_0', 'jmag_0_error', 'jmag_0_tot', 'jmag_0_tot_error', 'ks_mag_0', 'ks_mag_0_error', 'ks_mag_0_tot', 'ks_mag_0_tot_error', 'lii', 'log_k20_semimajor_axis', 'log_tot_semimajor_axis', 'morph_type', 'name', 'ra', 'radial_velocity', 'radial_velocity_error', 'radial_velocity_source', 'reddening', 'ref_morph_type', 'ref_radial_velocity', 'xsc_ppc_flags']\n",
      "----\n"
     ]
    },
    {
     "name": "stdout",
     "output_type": "stream",
     "text": [
      "xdeep2\n",
      "    DEEP2 Galaxy Redshift Survey Fields Chandra Point Source Catalog\n",
      "\n",
      "Columns=['\"__row\"', '\"__x_ra_dec\"', '\"__y_ra_dec\"', '\"__z_ra_dec\"', 'bayesian_galaxy_prob', 'bii', 'bmag', 'csc_name', 'dec', 'error_radius', 'fb_counts_50pc_eef', 'fb_counts_50pc_eef_error', 'fb_counts_50pc_eef_limit', 'fb_counts_90pc_eef', 'fb_counts_90pc_eef_error', 'fb_counts_90pc_eef_limit', 'fb_flux', 'fb_flux_error', 'fb_flux_limit', 'field_number', 'field_subfield_id', 'flux_ratio', 'flux_ratio_lower', 'flux_ratio_upper', 'hardness_ratio', 'hardness_ratio_lower', 'hardness_ratio_upper', 'hb_counts_50pc_eef', 'hb_counts_50pc_eef_error', 'hb_counts_50pc_eef_limit', 'hb_counts_90pc_eef', 'hb_counts_90pc_eef_error', 'hb_counts_90pc_eef_limit', 'hb_flux', 'hb_flux_error', 'hb_flux_limit', 'imag', 'lii', 'name', 'off_axis', 'off_set', 'opt_dec', 'opt_ra', 'opt_source_number', 'ra', 'radius_50pc_eef', 'radius_90pc_eef', 'redshift', 'rmag', 'sb_counts_50pc_eef', 'sb_counts_50pc_eef_error', 'sb_counts_50pc_eef_limit', 'sb_counts_90pc_eef', 'sb_counts_90pc_eef_error', 'sb_counts_90pc_eef_limit', 'sb_flux', 'sb_flux_error', 'sb_flux_limit']\n",
      "----\n",
      "xmmcfrscat\n",
      "    XMM-Newton/Canada-France Redshift Survey Fields X-Ray Sources\n",
      "\n",
      "Columns=['\"__row\"', '\"__x_ra_dec\"', '\"__y_ra_dec\"', '\"__z_ra_dec\"', 'bii', 'counts', 'dec', 'flux', 'flux_error', 'hb_flux', 'hb_flux_error', 'lii', 'mos1_hr', 'mos1_hr_error', 'mos2_hr', 'mos2_hr_error', 'name', 'notes', 'pn_hr', 'pn_hr_error', 'ra', 'sb_flux', 'sb_flux_error']\n",
      "----\n",
      "xmmcfrsoid\n",
      "    XMM-Newton/Canada-France Redshift Survey Fields Optical Identifi\n",
      "\n",
      "Columns=['\"__row\"', '\"__x_ra_dec\"', '\"__y_ra_dec\"', '\"__z_ra_dec\"', 'bii', 'bmag', 'bmag_error', 'cfdf_number', 'dec', 'imag', 'imag_error', 'itot_mag', 'kmag', 'kmag_error', 'lii', 'name', 'notes', 'phot_redshift_1', 'phot_redshift_1_flag', 'phot_redshift_2', 'phot_redshift_2_flag', 'phot_redshift_3', 'phot_redshift_3_flag', 'ra', 'redshift', 'true_probability', 'umag', 'umag_error', 'vmag', 'vmag_error', 'xo_offset']\n",
      "----\n",
      "xmmcphotz\n",
      "    XMM-Newton COSMOS (XMM-COSMOS) Survey Photometric Redshift Catal\n",
      "\n",
      "Columns=['\"__row\"', '\"__x_ra_dec\"', '\"__y_ra_dec\"', '\"__z_ra_dec\"', 'best_fit_template', 'bii', 'dec', 'ilbert_source_number', 'lii', 'morph_class', 'name', 'phot_redshift', 'phot_redshift_max', 'phot_redshift_min', 'ra', 'redshift_pdf', 'source_number', 'variability']\n",
      "----\n",
      "zcat\n",
      "    CfA Redshift Catalog (June 1995 Version)\n",
      "\n",
      "Columns=['\"__row\"', '\"__x_ra_dec\"', '\"__y_ra_dec\"', '\"__z_ra_dec\"', '\"distance\"', 'bar_type', 'bii', 'bmag', 'bt_mag', 'class', 'comments', 'dec', 'diameter_1', 'diameter_2', 'lii', 'luminosity_class', 'morph_type', 'name', 'notes', 'ra', 'radial_velocity', 'radial_velocity_error', 'redshift', 'ref_bmag', 'ref_radial_velocity', 'ref_redshift', 'rfn_number', 'structure', 'ugc_or_eso']\n",
      "----\n"
     ]
    }
   ],
   "source": [
    "for tablename in heasarc_tables.keys():\n",
    "    description = heasarc_tables[tablename].description\n",
    "    if description and \"redshift\" in description.lower():\n",
    "        heasarc_tables[tablename].describe()\n",
    "        print(\"Columns={}\".format(sorted([k.name for k in heasarc_tables[tablename].columns ])))\n",
    "        print(\"----\")"
   ]
  },
  {
   "cell_type": "markdown",
   "id": "f91b9b82",
   "metadata": {},
   "source": [
    "There are a number of tables that appear to be useful table for our goal, including the ZCAT,  which contains columns with the information that we need to select a sample of the brightest nearby spiral galaxy candidates.\n",
    "\n",
    "Now that we know all the possible column information in the zcat catalog, we can do more than query on position (as in a cone search) but also on any other column (e.g., redshift, bmag, morph_type).  The query has to be expressed in a language called __[ADQL](http://www.ivoa.net/documents/latest/ADQL.html)__."
   ]
  },
  {
   "cell_type": "markdown",
   "id": "e40b167e",
   "metadata": {},
   "source": [
    "### 2.2 Expressing queries in ADQL"
   ]
  },
  {
   "cell_type": "markdown",
   "id": "3d8b5ed1",
   "metadata": {},
   "source": [
    "The basics of ADQL:\n",
    "\n",
    "- *SELECT &#42; FROM my.interesting.catalog as cat...*\n",
    "\n",
    "says you want all (\"&#42;\") columns from the catalog called \"my.interesting.catalog\", which you will refer to in the rest of the query by the more compact name of \"cat\".\n",
    "\n",
    "Instead of returning all columns, you can\n",
    "\n",
    "- *SELECT cat.RA, cat.DEC, cat.bmag from catalog as cat...*\n",
    "\n",
    "to only return the columns you're interested in. To use multiple catalogs, your query could start, e.g.,\n",
    "\n",
    "- *SELECT c1.RA,c1.DEC,c2.BMAG FROM catalog1 as c1 natural join catalog2 as c2...*\n",
    "\n",
    "says that you want to query two catalogs zipped together the \"natural\" way, i.e., by looking for a common column.\n",
    "\n",
    "To select only some rows of the catalog based on the value in a column, you can add:\n",
    "\n",
    "- *WHERE cat.bmag < 14*\n",
    "\n",
    "says that you want to retrieve only those entries in the catalog whose bmag column has a value less than 14.\n",
    "\n",
    "You can also append\n",
    "\n",
    "- *ORDER by cat.bmag*\n",
    "\n",
    "to return the result sorted ascending by one of the columns, adding *DESC* to the end for descending.\n",
    "\n",
    "A few special functions in the ADQL allow you to query regions:\n",
    "\n",
    "- *WHERE contains( point('ICRS', cat.ra, cat.dec), circle('ICRS', 210.5, -6.5, 0.5))=1*\n",
    "\n",
    "is how you would ask for any catalog entries whose RA,DEC lie within a circular region defined by RA,DEC 210.5,-6.5 and a radius of 0.5 (all in degrees).  The 'ICRS' specifies the coordinate system.\n",
    "\n",
    "See the ADQL documentation for more."
   ]
  },
  {
   "cell_type": "markdown",
   "id": "63de3d33",
   "metadata": {},
   "source": [
    "### 2.3 A use case\n",
    "\n",
    "Here is a simple ADQL query where we print out the relevant columns for the bright (Bmag <14) sources found within 1 degree of M51 (we will discuss how to define the table and column names below):"
   ]
  },
  {
   "cell_type": "code",
   "execution_count": 9,
   "id": "e9349cb7",
   "metadata": {},
   "outputs": [],
   "source": [
    "##  Inside the format call, the {} are replaced by the given variables in order.\n",
    "##  So this asks for\n",
    "##  rows of public.zcat where that row's ra and dec (cat.ra and cat.dec from the catalog)\n",
    "##  are within radius 1deg of the given RA and DEC we got above for M51\n",
    "##  (coord.ra.deg and coord.dec.deg from our variables defined above), and where\n",
    "##  the bmag column is less than 14.\n",
    "query = \"\"\"SELECT ra, dec, Radial_Velocity, radial_velocity_error, bmag, morph_type FROM public.zcat as cat where\n",
    "    contains(point('ICRS',cat.ra,cat.dec),circle('ICRS',{},{},1.0))=1 and\n",
    "    cat.bmag < 14\n",
    "    order by cat.radial_velocity_error\n",
    "    \"\"\".format(coord.ra.deg, coord.dec.deg)"
   ]
  },
  {
   "cell_type": "code",
   "execution_count": 10,
   "id": "b87a48e0",
   "metadata": {},
   "outputs": [
    {
     "data": {
      "text/html": [
       "<div><i>Table length=3</i>\n",
       "<table id=\"table140714578456208\" class=\"table-striped table-bordered table-condensed\">\n",
       "<thead><tr><th>ra</th><th>dec</th><th>radial_velocity</th><th>radial_velocity_error</th><th>bmag</th><th>morph_type</th></tr></thead>\n",
       "<thead><tr><th>deg</th><th>deg</th><th>km / s</th><th>km / s</th><th></th><th></th></tr></thead>\n",
       "<thead><tr><th>float64</th><th>float64</th><th>int32</th><th>int16</th><th>float32</th><th>int16</th></tr></thead>\n",
       "<tr><td>202.46823</td><td>47.19815</td><td>474</td><td>23</td><td>9.03</td><td>4</td></tr>\n",
       "<tr><td>202.49491</td><td>47.26792</td><td>558</td><td>23</td><td>10.94</td><td>0</td></tr>\n",
       "<tr><td>202.54745</td><td>46.66996</td><td>2569</td><td>25</td><td>13.30</td><td>-5</td></tr>\n",
       "</table></div>"
      ],
      "text/plain": [
       "<Table length=3>\n",
       "    ra      dec    radial_velocity radial_velocity_error   bmag  morph_type\n",
       "   deg      deg         km / s             km / s                          \n",
       " float64  float64       int32              int16         float32   int16   \n",
       "--------- -------- --------------- --------------------- ------- ----------\n",
       "202.46823 47.19815             474                    23    9.03          4\n",
       "202.49491 47.26792             558                    23   10.94          0\n",
       "202.54745 46.66996            2569                    25   13.30         -5"
      ]
     },
     "execution_count": 10,
     "metadata": {},
     "output_type": "execute_result"
    }
   ],
   "source": [
    "results=heasarc.service.run_async(query)\n",
    "#results = heasarc.search(query)\n",
    "results.to_table()"
   ]
  },
  {
   "cell_type": "markdown",
   "id": "aeef3a04",
   "metadata": {},
   "source": [
    "See the __[information on the zcat](https://heasarc.gsfc.nasa.gov/W3Browse/galaxy-catalog/zcat.html)__ for column information. (We will use the 'radial_velocity' column rather than the 'redshift' column.) We note that spiral galaxies have morph_type between 1 - 9."
   ]
  },
  {
   "cell_type": "markdown",
   "id": "5f86b20b",
   "metadata": {},
   "source": [
    "Therefore, we can generalize the query above to complete our exercise and select the brightest (bmag < 14), nearby (radial velocity < 3000), spiral ( morph_type = 1 - 9) galaxies as follows:"
   ]
  },
  {
   "cell_type": "code",
   "execution_count": 11,
   "id": "e7a29d0f",
   "metadata": {},
   "outputs": [],
   "source": [
    "query = \"\"\"SELECT ra, dec, Radial_Velocity, radial_velocity_error, bmag, morph_type FROM public.zcat as cat where\n",
    "    cat.bmag < 14 and cat.morph_type between 1 and 9 and cat.Radial_Velocity < 3000\n",
    "    order by cat.Radial_velocity\n",
    "    \"\"\".format(coord.ra.deg, coord.dec.deg)"
   ]
  },
  {
   "cell_type": "code",
   "execution_count": 12,
   "id": "5895aa18",
   "metadata": {},
   "outputs": [
    {
     "data": {
      "text/html": [
       "<div><i>Table length=1120</i>\n",
       "<table id=\"table140714636062496\" class=\"table-striped table-bordered table-condensed\">\n",
       "<thead><tr><th>ra</th><th>dec</th><th>radial_velocity</th><th>radial_velocity_error</th><th>bmag</th><th>morph_type</th></tr></thead>\n",
       "<thead><tr><th>deg</th><th>deg</th><th>km / s</th><th>km / s</th><th></th><th></th></tr></thead>\n",
       "<thead><tr><th>float64</th><th>float64</th><th>int32</th><th>int16</th><th>float32</th><th>int16</th></tr></thead>\n",
       "<tr><td>10.68474</td><td>41.26883</td><td>-297</td><td>1</td><td>4.30</td><td>3</td></tr>\n",
       "<tr><td>189.20757</td><td>13.16275</td><td>-223</td><td>18</td><td>10.58</td><td>2</td></tr>\n",
       "<tr><td>186.73679</td><td>15.04782</td><td>-182</td><td>12</td><td>12.23</td><td>1</td></tr>\n",
       "<tr><td>23.46218</td><td>30.66019</td><td>-180</td><td>1</td><td>6.50</td><td>5</td></tr>\n",
       "<tr><td>186.49551</td><td>15.67102</td><td>-155</td><td>26</td><td>13.70</td><td>7</td></tr>\n",
       "<tr><td>183.45115</td><td>14.90010</td><td>-98</td><td>15</td><td>11.00</td><td>2</td></tr>\n",
       "<tr><td>183.91296</td><td>13.90134</td><td>-84</td><td>27</td><td>12.08</td><td>4</td></tr>\n",
       "<tr><td>148.89929</td><td>69.06297</td><td>-40</td><td>5</td><td>7.75</td><td>2</td></tr>\n",
       "<tr><td>68.21188</td><td>71.88872</td><td>-28</td><td>10</td><td>12.10</td><td>7</td></tr>\n",
       "<tr><td>...</td><td>...</td><td>...</td><td>...</td><td>...</td><td>...</td></tr>\n",
       "<tr><td>160.76076</td><td>-36.36216</td><td>2965</td><td>36</td><td>13.80</td><td>5</td></tr>\n",
       "<tr><td>186.92024</td><td>-8.27657</td><td>2978</td><td>20</td><td>13.13</td><td>2</td></tr>\n",
       "<tr><td>327.32062</td><td>-60.60958</td><td>2981</td><td>2</td><td>13.23</td><td>5</td></tr>\n",
       "<tr><td>85.81306</td><td>-30.07849</td><td>2982</td><td>32</td><td>13.67</td><td>1</td></tr>\n",
       "<tr><td>199.74246</td><td>-47.91271</td><td>2982</td><td>10</td><td>13.10</td><td>3</td></tr>\n",
       "<tr><td>268.99556</td><td>18.34047</td><td>2986</td><td>20</td><td>13.40</td><td>2</td></tr>\n",
       "<tr><td>234.99208</td><td>58.08230</td><td>2987</td><td>22</td><td>13.30</td><td>3</td></tr>\n",
       "<tr><td>165.35109</td><td>57.67702</td><td>2994</td><td>20</td><td>13.70</td><td>5</td></tr>\n",
       "<tr><td>149.05805</td><td>59.30739</td><td>2996</td><td>20</td><td>13.30</td><td>3</td></tr>\n",
       "</table></div>"
      ],
      "text/plain": [
       "<Table length=1120>\n",
       "    ra       dec    radial_velocity radial_velocity_error   bmag  morph_type\n",
       "   deg       deg         km / s             km / s                          \n",
       " float64   float64       int32              int16         float32   int16   \n",
       "--------- --------- --------------- --------------------- ------- ----------\n",
       " 10.68474  41.26883            -297                     1    4.30          3\n",
       "189.20757  13.16275            -223                    18   10.58          2\n",
       "186.73679  15.04782            -182                    12   12.23          1\n",
       " 23.46218  30.66019            -180                     1    6.50          5\n",
       "186.49551  15.67102            -155                    26   13.70          7\n",
       "183.45115  14.90010             -98                    15   11.00          2\n",
       "183.91296  13.90134             -84                    27   12.08          4\n",
       "148.89929  69.06297             -40                     5    7.75          2\n",
       " 68.21188  71.88872             -28                    10   12.10          7\n",
       "      ...       ...             ...                   ...     ...        ...\n",
       "160.76076 -36.36216            2965                    36   13.80          5\n",
       "186.92024  -8.27657            2978                    20   13.13          2\n",
       "327.32062 -60.60958            2981                     2   13.23          5\n",
       " 85.81306 -30.07849            2982                    32   13.67          1\n",
       "199.74246 -47.91271            2982                    10   13.10          3\n",
       "268.99556  18.34047            2986                    20   13.40          2\n",
       "234.99208  58.08230            2987                    22   13.30          3\n",
       "165.35109  57.67702            2994                    20   13.70          5\n",
       "149.05805  59.30739            2996                    20   13.30          3"
      ]
     },
     "execution_count": 12,
     "metadata": {},
     "output_type": "execute_result"
    }
   ],
   "source": [
    "results = heasarc.service.run_async(query)\n",
    "#results = heasarc.search(query)\n",
    "results.to_table()"
   ]
  },
  {
   "cell_type": "markdown",
   "id": "ee736014",
   "metadata": {},
   "source": [
    "### 2.4 TAP examples for a given service\n",
    "\n",
    "Each service may also provide some example queries.  If they do, then you can see them with, e.g.:"
   ]
  },
  {
   "cell_type": "code",
   "execution_count": 13,
   "id": "0dbea767",
   "metadata": {},
   "outputs": [
    {
     "data": {
      "text/plain": [
       "{'REQUEST': 'doQuery',\n",
       " 'LANG': 'ADQL',\n",
       " 'QUERY': \"SELECT * FROM rosmaster WHERE exposure > 10000 AND 1=CONTAINS(POINT('ICRS', ra, dec),CIRCLE('ICRS', 50, -85, 1))          \"}"
      ]
     },
     "execution_count": 13,
     "metadata": {},
     "output_type": "execute_result"
    }
   ],
   "source": [
    "heasarc.service.examples[0]"
   ]
  },
  {
   "cell_type": "markdown",
   "id": "f5d50232",
   "metadata": {},
   "source": [
    "Above, these examples look like a list of dictionaries.  But they are actually a list of objects that can be executed:"
   ]
  },
  {
   "cell_type": "code",
   "execution_count": 14,
   "id": "c85b2aa7",
   "metadata": {},
   "outputs": [
    {
     "name": "stdout",
     "output_type": "stream",
     "text": [
      "SELECT * FROM rosmaster WHERE exposure > 10000 AND 1=CONTAINS(POINT('ICRS', ra, dec),CIRCLE('ICRS', 50, -85, 1))          \n"
     ]
    },
    {
     "data": {
      "text/html": [
       "<div><i>Table length=2</i>\n",
       "<table id=\"table140714641172528\" class=\"table-striped table-bordered table-condensed\">\n",
       "<thead><tr><th>__row</th><th>seq_id</th><th>ra</th><th>dec</th><th>lii</th><th>bii</th><th>instrument</th><th>filter</th><th>site</th><th>exposure</th><th>requested_exposure</th><th>fits_type</th><th>start_time</th><th>end_time</th><th>name</th><th>pi_lname</th><th>pi_fname</th><th>ror</th><th>index_id</th><th>subj_cat</th><th>proc_rev</th><th>title</th><th>qa_number</th><th>ao</th><th>proposal_number</th><th>roll</th><th>rday_begin</th><th>rday_end</th><th>class</th><th>__x_ra_dec</th><th>__y_ra_dec</th><th>__z_ra_dec</th></tr></thead>\n",
       "<thead><tr><th></th><th></th><th>deg</th><th>deg</th><th>deg</th><th>deg</th><th></th><th></th><th></th><th>s</th><th>s</th><th></th><th>d</th><th>d</th><th></th><th></th><th></th><th></th><th></th><th></th><th></th><th></th><th></th><th></th><th></th><th>deg</th><th>d</th><th>d</th><th></th><th></th><th></th><th></th></tr></thead>\n",
       "<thead><tr><th>object</th><th>object</th><th>float64</th><th>float64</th><th>float64</th><th>float64</th><th>object</th><th>object</th><th>object</th><th>int32</th><th>int32</th><th>object</th><th>float64</th><th>float64</th><th>object</th><th>object</th><th>object</th><th>int32</th><th>object</th><th>int16</th><th>int16</th><th>object</th><th>int32</th><th>int16</th><th>int32</th><th>int16</th><th>int32</th><th>int32</th><th>int16</th><th>float64</th><th>float64</th><th>float64</th></tr></thead>\n",
       "<tr><td>1</td><td>RH202299A01</td><td>49.3200</td><td>-85.5400</td><td>299.8517</td><td>-30.6815</td><td>HRI</td><td>N</td><td>MPE</td><td>43683</td><td>70000</td><td>RDF 3_6</td><td>50324.7425347222</td><td>50377.4775925926</td><td>RE J0317-853</td><td>BURLEIGH</td><td>MATTHEW</td><td>202299</td><td>a01</td><td>2</td><td>2</td><td>RE J0317-853</td><td>24301</td><td>6</td><td>7128</td><td>162</td><td>2316</td><td>2369</td><td>2900</td><td>0.0589725712332591</td><td>0.0506886092544769</td><td>-0.996971865567923</td></tr>\n",
       "<tr><td>2</td><td>RH202299N00</td><td>49.3200</td><td>-85.5400</td><td>299.8517</td><td>-30.6815</td><td>HRI</td><td>N</td><td>MPE</td><td>36146</td><td>70000</td><td>RDF 4_2</td><td>50174.4961921296</td><td>50187.9867476852</td><td>RE J0317-853</td><td>BURLEIGH</td><td>MATTHEW</td><td>202299</td><td>n00</td><td>2</td><td>2</td><td>RE J0317-853</td><td>24302</td><td>6</td><td>7128</td><td>307</td><td>2163</td><td>2177</td><td>2900</td><td>0.0589725712332591</td><td>0.0506886092544769</td><td>-0.996971865567923</td></tr>\n",
       "</table></div>"
      ],
      "text/plain": [
       "<Table length=2>\n",
       "__row     seq_id      ra   ...     __y_ra_dec         __z_ra_dec    \n",
       "                     deg   ...                                      \n",
       "object    object   float64 ...      float64            float64      \n",
       "------ ----------- ------- ... ------------------ ------------------\n",
       "     1 RH202299A01 49.3200 ... 0.0506886092544769 -0.996971865567923\n",
       "     2 RH202299N00 49.3200 ... 0.0506886092544769 -0.996971865567923"
      ]
     },
     "execution_count": 14,
     "metadata": {},
     "output_type": "execute_result"
    }
   ],
   "source": [
    "for example in heasarc.service.examples:\n",
    "    print(example['QUERY'])\n",
    "    result=example.execute()\n",
    "    #  Stop at one\n",
    "    break\n",
    "result.to_table()"
   ]
  },
  {
   "cell_type": "markdown",
   "id": "9148403b",
   "metadata": {},
   "source": [
    "## 3. Using the TAP to cross-correlate and combine"
   ]
  },
  {
   "cell_type": "markdown",
   "id": "e3ea0641",
   "metadata": {},
   "source": [
    "### 3.1 Cross-correlating to combine catalogs\n",
    "\n",
    "TAP can also be a powerful way to collect a lot of useful information from existing catalogs in one quick step. For this exercise, we will start with a list of sources, uploaded from our own table, and do a 'cross-correlation' with the *zcat* table.\n",
    "\n",
    "For more on creating and working with VO tables, see that [notebook](votables.md).  Here, we just read one in that's already prepared:\n",
    "\n",
    "First, check that this service can handle uploaded tables.   Not all do."
   ]
  },
  {
   "cell_type": "code",
   "execution_count": 15,
   "id": "1b38a4de",
   "metadata": {},
   "outputs": [
    {
     "data": {
      "text/plain": [
       "[<UploadMethod ivo-id=\"ivo://ivoa.net/std/TAPRegExt#upload-http\"/>,\n",
       " <UploadMethod ivo-id=\"ivo://ivoa.net/std/TAPRegExt#upload-inline\"/>]"
      ]
     },
     "execution_count": 15,
     "metadata": {},
     "output_type": "execute_result"
    }
   ],
   "source": [
    "heasarc.service.upload_methods"
   ]
  },
  {
   "cell_type": "markdown",
   "id": "d2c23b9a",
   "metadata": {},
   "source": [
    "The inline method is what PyVO will use.  These take a while, i.e. half a minute."
   ]
  },
  {
   "cell_type": "code",
   "execution_count": 16,
   "id": "7be98a89",
   "metadata": {},
   "outputs": [
    {
     "data": {
      "text/html": [
       "<div><i>Table length=14</i>\n",
       "<table id=\"table140714578452992\" class=\"table-striped table-bordered table-condensed\">\n",
       "<thead><tr><th>ra</th><th>dec</th><th>radial_velocity</th><th>bmag</th><th>morph_type</th></tr></thead>\n",
       "<thead><tr><th>deg</th><th>deg</th><th></th><th></th><th></th></tr></thead>\n",
       "<thead><tr><th>float64</th><th>float64</th><th>int32</th><th>float32</th><th>int16</th></tr></thead>\n",
       "<tr><td>136.00074</td><td>21.96792</td><td>3093</td><td>13.80</td><td>20</td></tr>\n",
       "<tr><td>146.70334</td><td>22.01827</td><td>7446</td><td>14.60</td><td>-1</td></tr>\n",
       "<tr><td>146.70334</td><td>22.01827</td><td>7597</td><td>15.00</td><td>-2</td></tr>\n",
       "<tr><td>148.77806</td><td>14.29613</td><td>7194</td><td>15.10</td><td>2</td></tr>\n",
       "<tr><td>175.03940</td><td>15.32725</td><td>3325</td><td>14.40</td><td>3</td></tr>\n",
       "<tr><td>191.54199</td><td>30.73227</td><td>6651</td><td>15.00</td><td>20</td></tr>\n",
       "<tr><td>191.54740</td><td>30.72338</td><td>6517</td><td>14.70</td><td>-2</td></tr>\n",
       "<tr><td>194.91294</td><td>28.89537</td><td>6093</td><td>15.00</td><td>0</td></tr>\n",
       "<tr><td>206.57164</td><td>43.85051</td><td>2229</td><td>15.00</td><td>-1</td></tr>\n",
       "<tr><td>206.57996</td><td>43.84386</td><td>25864</td><td>18.50</td><td>--</td></tr>\n",
       "<tr><td>209.96260</td><td>38.18183</td><td>2759</td><td>14.90</td><td>3</td></tr>\n",
       "<tr><td>213.55601</td><td>15.62222</td><td>4644</td><td>14.00</td><td>3</td></tr>\n",
       "<tr><td>219.96650</td><td>42.74234</td><td>2517</td><td>14.70</td><td>20</td></tr>\n",
       "<tr><td>333.82170</td><td>37.29922</td><td>5207</td><td>15.30</td><td>1</td></tr>\n",
       "</table></div>"
      ],
      "text/plain": [
       "<Table length=14>\n",
       "    ra      dec    radial_velocity   bmag  morph_type\n",
       "   deg      deg                                      \n",
       " float64  float64       int32      float32   int16   \n",
       "--------- -------- --------------- ------- ----------\n",
       "136.00074 21.96792            3093   13.80         20\n",
       "146.70334 22.01827            7446   14.60         -1\n",
       "146.70334 22.01827            7597   15.00         -2\n",
       "148.77806 14.29613            7194   15.10          2\n",
       "175.03940 15.32725            3325   14.40          3\n",
       "191.54199 30.73227            6651   15.00         20\n",
       "191.54740 30.72338            6517   14.70         -2\n",
       "194.91294 28.89537            6093   15.00          0\n",
       "206.57164 43.85051            2229   15.00         -1\n",
       "206.57996 43.84386           25864   18.50         --\n",
       "209.96260 38.18183            2759   14.90          3\n",
       "213.55601 15.62222            4644   14.00          3\n",
       "219.96650 42.74234            2517   14.70         20\n",
       "333.82170 37.29922            5207   15.30          1"
      ]
     },
     "execution_count": 16,
     "metadata": {},
     "output_type": "execute_result"
    }
   ],
   "source": [
    "query=\"\"\"\n",
    "    SELECT cat.ra, cat.dec, Radial_Velocity, bmag, morph_type\n",
    "    FROM zcat cat, tap_upload.mysources mt\n",
    "    WHERE\n",
    "    contains(point('ICRS',cat.ra,cat.dec),circle('ICRS',mt.ra,mt.dec,0.01))=1\n",
    "    and Radial_Velocity > 0\n",
    "    ORDER by cat.ra\"\"\"\n",
    "zcattable = heasarc.service.run_async(query, uploads={'mysources': 'data/my_sources.xml'})\n",
    "#zcattable = heasarc.search(query, uploads={'mysources': 'data/my_sources.xml'})\n",
    "mytable = zcattable.to_table()\n",
    "mytable"
   ]
  },
  {
   "cell_type": "markdown",
   "id": "32ed94e6",
   "metadata": {},
   "source": [
    "Therefore we now have the Bmag, morphological type and radial velocities for all the sources in our list with a single TAP query."
   ]
  },
  {
   "cell_type": "markdown",
   "id": "8ec1709c",
   "metadata": {},
   "source": [
    "### 3.2 Cross-correlating with user-defined columns\n",
    "\n",
    "Our input list of sources contains galaxy pair candidates that may be interacting with each other. Therefore it would be interesting to know what the morphological type and the Bmagnitude are for the potential companions.\n",
    "\n",
    "In this advanced example, we want our search to be physically motivated since the criterion for galaxy interaction depends on the physical separation of the galaxies. Unlike the previous case, the search radius is not a constant, but varies for each candidate by the distance to the source. Specifically, we want to search for companions that are within 50 kpc of the candidate and therefore first need to find the angular diameter distance that corresponds to galaxy's distance (in our case the radial velocity).\n",
    "\n",
    "Therefore, we begin by taking our table of objects and adding an angDdeg column:"
   ]
  },
  {
   "cell_type": "code",
   "execution_count": 17,
   "id": "9037fe81",
   "metadata": {},
   "outputs": [
    {
     "data": {
      "text/html": [
       "<div><i>Table length=14</i>\n",
       "<table id=\"table140714578452992\" class=\"table-striped table-bordered table-condensed\">\n",
       "<thead><tr><th>ra</th><th>dec</th><th>radial_velocity</th><th>bmag</th><th>morph_type</th><th>redshift</th><th>angDdeg</th></tr></thead>\n",
       "<thead><tr><th>deg</th><th>deg</th><th></th><th></th><th></th><th></th><th>deg</th></tr></thead>\n",
       "<thead><tr><th>float64</th><th>float64</th><th>int32</th><th>float32</th><th>int16</th><th>float64</th><th>float64</th></tr></thead>\n",
       "<tr><td>136.00074</td><td>21.96792</td><td>3093</td><td>13.80</td><td>20</td><td>0.010317137464478843</td><td>0.06354147623734327</td></tr>\n",
       "<tr><td>146.70334</td><td>22.01827</td><td>7446</td><td>14.60</td><td>-1</td><td>0.024837182528454405</td><td>0.026865139047937883</td></tr>\n",
       "<tr><td>146.70334</td><td>22.01827</td><td>7597</td><td>15.00</td><td>-2</td><td>0.02534086431220361</td><td>0.026347225109192074</td></tr>\n",
       "<tr><td>148.77806</td><td>14.29613</td><td>7194</td><td>15.10</td><td>2</td><td>0.02399660100855506</td><td>0.027777901534139626</td></tr>\n",
       "<tr><td>175.03940</td><td>15.32725</td><td>3325</td><td>14.40</td><td>3</td><td>0.011091006165338556</td><td>0.0591638655187596</td></tr>\n",
       "<tr><td>191.54199</td><td>30.73227</td><td>6651</td><td>15.00</td><td>20</td><td>0.022185347971629094</td><td>0.02997982632048326</td></tr>\n",
       "<tr><td>191.54740</td><td>30.72338</td><td>6517</td><td>14.70</td><td>-2</td><td>0.02173837208406357</td><td>0.030579669183669427</td></tr>\n",
       "<tr><td>194.91294</td><td>28.89537</td><td>6093</td><td>15.00</td><td>0</td><td>0.020324060320423405</td><td>0.032651528395800614</td></tr>\n",
       "<tr><td>206.57164</td><td>43.85051</td><td>2229</td><td>15.00</td><td>-1</td><td>0.007435143681966809</td><td>0.08786069920287261</td></tr>\n",
       "<tr><td>206.57996</td><td>43.84386</td><td>25864</td><td>18.50</td><td>--</td><td>0.08627301758205005</td><td>0.008319382638265264</td></tr>\n",
       "<tr><td>209.96260</td><td>38.18183</td><td>2759</td><td>14.90</td><td>3</td><td>0.009203033386517016</td><td>0.07113666025554453</td></tr>\n",
       "<tr><td>213.55601</td><td>15.62222</td><td>4644</td><td>14.00</td><td>3</td><td>0.015490716581002182</td><td>0.042588105321019934</td></tr>\n",
       "<tr><td>219.96650</td><td>42.74234</td><td>2517</td><td>14.70</td><td>20</td><td>0.008395808276137487</td><td>0.0778991456401862</td></tr>\n",
       "<tr><td>333.82170</td><td>37.29922</td><td>5207</td><td>15.30</td><td>1</td><td>0.017368682436967778</td><td>0.03807030457673168</td></tr>\n",
       "</table></div>"
      ],
      "text/plain": [
       "<Table length=14>\n",
       "    ra      dec    radial_velocity ...       redshift             angDdeg       \n",
       "   deg      deg                    ...                              deg         \n",
       " float64  float64       int32      ...       float64              float64       \n",
       "--------- -------- --------------- ... -------------------- --------------------\n",
       "136.00074 21.96792            3093 ... 0.010317137464478843  0.06354147623734327\n",
       "146.70334 22.01827            7446 ... 0.024837182528454405 0.026865139047937883\n",
       "146.70334 22.01827            7597 ...  0.02534086431220361 0.026347225109192074\n",
       "148.77806 14.29613            7194 ...  0.02399660100855506 0.027777901534139626\n",
       "175.03940 15.32725            3325 ... 0.011091006165338556   0.0591638655187596\n",
       "191.54199 30.73227            6651 ... 0.022185347971629094  0.02997982632048326\n",
       "191.54740 30.72338            6517 ...  0.02173837208406357 0.030579669183669427\n",
       "194.91294 28.89537            6093 ... 0.020324060320423405 0.032651528395800614\n",
       "206.57164 43.85051            2229 ... 0.007435143681966809  0.08786069920287261\n",
       "206.57996 43.84386           25864 ...  0.08627301758205005 0.008319382638265264\n",
       "209.96260 38.18183            2759 ... 0.009203033386517016  0.07113666025554453\n",
       "213.55601 15.62222            4644 ... 0.015490716581002182 0.042588105321019934\n",
       "219.96650 42.74234            2517 ... 0.008395808276137487   0.0778991456401862\n",
       "333.82170 37.29922            5207 ... 0.017368682436967778  0.03807030457673168"
      ]
     },
     "execution_count": 17,
     "metadata": {},
     "output_type": "execute_result"
    }
   ],
   "source": [
    "## The column 'radial_velocity' is c*z but doesn't include the unit; it is km/s\n",
    "## Get the speed of light from astropy.constants and express in km/s\n",
    "c = const.c.to(u.km/u.s).value\n",
    "redshifts = mytable['radial_velocity']/c\n",
    "mytable['redshift'] = redshifts\n",
    "physdist = 0.05*u.Mpc # 50 kpc physical distance\n",
    "\n",
    "angDdist = Planck15.angular_diameter_distance(mytable['redshift'].data)\n",
    "angDrad = np.arctan(physdist/angDdist)\n",
    "mytable['angDdeg'] = angDrad.to(u.deg)\n",
    "mytable"
   ]
  },
  {
   "cell_type": "markdown",
   "id": "4086ec0c",
   "metadata": {},
   "source": [
    "Now we construct and run a query that uses the new angDdeg column in every row search. Note, we also don't want to list the original candidates since we know these are in the catalog and we want rather to find any companions. Therefore, we exclude the match if the radial velocities match exactly."
   ]
  },
  {
   "cell_type": "code",
   "execution_count": 18,
   "id": "0219436a",
   "metadata": {},
   "outputs": [
    {
     "data": {
      "text/html": [
       "<div><i>Table length=9</i>\n",
       "<table id=\"table140714579098832\" class=\"table-striped table-bordered table-condensed\">\n",
       "<thead><tr><th>ra</th><th>dec</th><th>ra2</th><th>dec2</th><th>radial_velocity</th><th>morph_type</th><th>bmag</th></tr></thead>\n",
       "<thead><tr><th>deg</th><th>deg</th><th>deg</th><th>deg</th><th></th><th></th><th></th></tr></thead>\n",
       "<thead><tr><th>float64</th><th>float64</th><th>float64</th><th>float64</th><th>int32</th><th>int16</th><th>float32</th></tr></thead>\n",
       "<tr><td>146.70334</td><td>22.01827</td><td>146.70334</td><td>22.01827</td><td>7597</td><td>-2</td><td>15.00</td></tr>\n",
       "<tr><td>146.70334</td><td>22.01827</td><td>146.70334</td><td>22.01827</td><td>7446</td><td>-1</td><td>14.60</td></tr>\n",
       "<tr><td>175.03940</td><td>15.32725</td><td>175.05522</td><td>15.34280</td><td>3299</td><td>3</td><td>13.10</td></tr>\n",
       "<tr><td>191.54740</td><td>30.72338</td><td>191.54199</td><td>30.73227</td><td>6651</td><td>20</td><td>15.00</td></tr>\n",
       "<tr><td>191.54199</td><td>30.73227</td><td>191.54740</td><td>30.72338</td><td>6517</td><td>-2</td><td>14.70</td></tr>\n",
       "<tr><td>206.57164</td><td>43.85051</td><td>206.57996</td><td>43.84386</td><td>25864</td><td>--</td><td>18.50</td></tr>\n",
       "<tr><td>206.57164</td><td>43.85051</td><td>206.59810</td><td>43.87223</td><td>2420</td><td>4</td><td>12.72</td></tr>\n",
       "<tr><td>219.96650</td><td>42.74234</td><td>220.03854</td><td>42.77895</td><td>2545</td><td>7</td><td>14.00</td></tr>\n",
       "<tr><td>333.82170</td><td>37.29922</td><td>333.84684</td><td>37.28261</td><td>5984</td><td>-3</td><td>15.06</td></tr>\n",
       "</table></div>"
      ],
      "text/plain": [
       "<Table length=9>\n",
       "    ra      dec       ra2      dec2   radial_velocity morph_type   bmag \n",
       "   deg      deg       deg      deg                                      \n",
       " float64  float64   float64  float64       int32        int16    float32\n",
       "--------- -------- --------- -------- --------------- ---------- -------\n",
       "146.70334 22.01827 146.70334 22.01827            7597         -2   15.00\n",
       "146.70334 22.01827 146.70334 22.01827            7446         -1   14.60\n",
       "175.03940 15.32725 175.05522 15.34280            3299          3   13.10\n",
       "191.54740 30.72338 191.54199 30.73227            6651         20   15.00\n",
       "191.54199 30.73227 191.54740 30.72338            6517         -2   14.70\n",
       "206.57164 43.85051 206.57996 43.84386           25864         --   18.50\n",
       "206.57164 43.85051 206.59810 43.87223            2420          4   12.72\n",
       "219.96650 42.74234 220.03854 42.77895            2545          7   14.00\n",
       "333.82170 37.29922 333.84684 37.28261            5984         -3   15.06"
      ]
     },
     "execution_count": 18,
     "metadata": {},
     "output_type": "execute_result"
    }
   ],
   "source": [
    "query=\"\"\"SELECT mt.ra, mt.dec, cat.ra, cat.dec, cat.Radial_Velocity, cat.morph_type, cat.bmag\n",
    "    FROM zcat cat, tap_upload.mytable mt\n",
    "    WHERE\n",
    "    contains(point('ICRS',cat.ra,cat.dec),circle('ICRS',mt.ra,mt.dec,mt.angDdeg))=1\n",
    "    and cat.Radial_Velocity > 0 and cat.radial_velocity != mt.radial_velocity\n",
    "    ORDER by cat.ra\"\"\"\n",
    "mytable2 = heasarc.search(query, uploads={'mytable': mytable})\n",
    "mytable2.to_table()"
   ]
  },
  {
   "cell_type": "markdown",
   "id": "d56b1f8a",
   "metadata": {},
   "source": [
    "Therefore, by adding new information to our original data table, we could cross-correlate with the TAP.  We find that, in our candidate list, there is one true pair of galaxies."
   ]
  },
  {
   "cell_type": "markdown",
   "id": "574cd4c5",
   "metadata": {},
   "source": [
    "## 4. Synchronous versus asynchronous queries\n",
    "\n",
    "There is one technical detail about TAP queries that you will need to know.  In the code cells above, there are two commands for sending the query, one of which is commented out.  This is because, with the TAP, there are two ways to send such queries.  The default when you use the `search()` method is to us a synchronous query, which means that the query is sent and the client waits for the response.  For large and complicated queries, this may time out, or you may want to run several in parallel.  So there are other options.\n",
    "\n",
    "The method `service.run_async()` uses an asynchronous query, which means that the query is sent, and then (under the hood without you needing to do anything), the method checks for a response.  From your point of view, these methods look the same;  PyVO is doing different things under the hood, but the method will not return until it has your result.\n",
    "\n",
    "You need to know about these two methods for a couple of reasons.  First, some services will limit synchronous queries, i.e. they will not necessarily return *all* the results if there are too many of them.  An asynchronous query should have no such restrictions.  In the case of the HEASARC service that we use above, it does not matter, but you should be aware of this and be in the habit of using the asynchronous queries for complete results after an initial interactive exploration.\n",
    "\n",
    "The second reason to be aware of this is that asynchronous queries may be queued by the service, and they can take a lot longer if the service is very busy or the job is very large.  (The synchronous option in this case may either time out, or it may return quickly but with incomplete results.)\n",
    "\n",
    "For very large queries, or for submitting queries in parallel, you may wish to use the `submit_job()`, `wait()`, and `fetch_results()` methods to avoid locking up your Python session.  This is described in the [pyvo documentation](https://pyvo.readthedocs.io/en/latest/dal/index.html#jobs)."
   ]
  }
 ],
 "metadata": {
  "anaconda-cloud": {},
  "jupytext": {
   "notebook_metadata_filter": "all",
   "text_representation": {
    "extension": ".md",
    "format_name": "myst",
    "format_version": 0.13,
    "jupytext_version": "1.16.0"
   }
  },
  "kernelspec": {
   "display_name": "Python 3 (ipykernel)",
   "language": "python",
   "name": "python3"
  },
  "language_info": {
   "codemirror_mode": {
    "name": "ipython",
    "version": 3
   },
   "file_extension": ".py",
   "mimetype": "text/x-python",
   "name": "python",
   "nbconvert_exporter": "python",
   "pygments_lexer": "ipython3",
   "version": "3.10.15"
  },
  "source_map": [
   43,
   65,
   84,
   88,
   92,
   95,
   108,
   111,
   115,
   123,
   127,
   133,
   141,
   147,
   150,
   154,
   158,
   164,
   168,
   173,
   177,
   184,
   190,
   194,
   232,
   238,
   252,
   256,
   260,
   264,
   271,
   275,
   281,
   283,
   287,
   294,
   298,
   308,
   310,
   314,
   326,
   330,
   340,
   352,
   357,
   366,
   370
  ],
  "toc": {
   "base_numbering": 1,
   "nav_menu": {},
   "number_sections": false,
   "sideBar": true,
   "skip_h1_title": false,
   "title_cell": "Table of Contents",
   "title_sidebar": "Contents",
   "toc_cell": false,
   "toc_position": {
    "height": "calc(100% - 180px)",
    "left": "10px",
    "top": "150px",
    "width": "345.6px"
   },
   "toc_section_display": true,
   "toc_window_display": true
  },
  "widgets": {
   "state": {},
   "version": "1.1.1"
  }
 },
 "nbformat": 4,
 "nbformat_minor": 5
}