{
 "cells": [
  {
   "cell_type": "markdown",
   "id": "df192872",
   "metadata": {},
   "source": [
    "# Proposal Preparation Exercise\n",
    "\n",
    "The Story: Suppose that you are preparing to write a proposal on NGC1365, aiming to investigate the intriguing black hole spin this galaxy with Chandra grating observations (see: <https://www.space.com/19980-monster-black-hole-spin-discovery.html> )\n",
    "\n",
    "In writing proposals, there are often the same tasks that are required: including finding and analyzing previous observations of the proposal, and creating figures that include, e.g., multiwavelength images and spectrum for the source."
   ]
  },
  {
   "cell_type": "code",
   "execution_count": 1,
   "id": "a7459a9c",
   "metadata": {},
   "outputs": [],
   "source": [
    "# As a hint, we include the code block for Python modules that you will likely need to import:\n",
    "import matplotlib\n",
    "import matplotlib.pyplot as plt\n",
    "import numpy as np\n",
    "%matplotlib inline\n",
    "\n",
    "# For downloading files\n",
    "from astropy.utils.data import download_file\n",
    "from astropy.io import fits\n",
    "\n",
    "import pyvo as vo\n",
    "\n",
    "## There are a number of relatively unimportant warnings that\n",
    "## show up, so for now, suppress them:\n",
    "import warnings\n",
    "warnings.filterwarnings(\"ignore\", module=\"astropy.io.votable.*\")\n",
    "warnings.filterwarnings(\"ignore\", module=\"pyvo.utils.xml.*\")"
   ]
  },
  {
   "cell_type": "markdown",
   "id": "a3251ff6",
   "metadata": {},
   "source": [
    "## Step 1: Find out what the previously quoted Chandra 2-10 keV flux of the central source is for NGC 1365\n",
    "\n",
    "Hint: Do a Registry search for tables served by the HEASARC (where high energy data are archived) to find potential table with this information"
   ]
  },
  {
   "cell_type": "code",
   "execution_count": 2,
   "id": "a94c490f",
   "metadata": {},
   "outputs": [],
   "source": [
    "#  Start with a Registry query to find table services for the HEASARC.\n",
    "#   Then get the list of tables that this service serves.\n",
    "#\n",
    "#  Hint:  the QuickReference has this example:\n",
    "#services = vo.regsearch(servicetype='tap', keywords=['heasarc'])\n",
    "#tables = services[0].service.tables\n",
    "#\n",
    "#  Hint2:  the QuickReference also has this example:\n",
    "#for c in tables['zcat'].columns:\n",
    "#    print(f'{c.name:30s} - {c.description}')"
   ]
  },
  {
   "cell_type": "markdown",
   "id": "c27c18d5",
   "metadata": {},
   "source": [
    "Hint: The Chansngcat ( <https://heasarc.gsfc.nasa.gov/W3Browse/chandra/chansngcat.html> ) table is likely the best table.  Create a table with ra, dec, exposure time, and flux (and flux errors) from the public.chansngcat catalog for Chandra observations matched within 0.1 degree."
   ]
  },
  {
   "cell_type": "code",
   "execution_count": 3,
   "id": "c0d2d279",
   "metadata": {},
   "outputs": [],
   "source": [
    "# Get the coordinate for NGC 1365 with astropy."
   ]
  },
  {
   "cell_type": "code",
   "execution_count": 4,
   "id": "3363baaa",
   "metadata": {},
   "outputs": [],
   "source": [
    "# Construct a query that will get the ra, dec, exposure time, flux, and flux errors\n",
    "#  from this catalog in the region around this source and submit the query.\n",
    "#  (See the CS_Catalog_queries.md )\n",
    "#  Hint:  the QuickReference has this example:\n",
    "#coord = SkyCoord.from_name(\"m83\")\n",
    "#query = f'''\n",
    "#SELECT ra, dec, Radial_Velocity, radial_velocity_error, bmag, morph_type FROM public.zcat as cat where\n",
    "#contains(point('ICRS',cat.ra,cat.dec),circle('ICRS',{coord.ra.deg},{coord.dec.deg},1.0))=1\n",
    "#'''\n",
    "#results = services[0].service.run_async(query)"
   ]
  },
  {
   "cell_type": "markdown",
   "id": "73114883",
   "metadata": {},
   "source": [
    "## Step 2: Make Images\n",
    "\n",
    "### Create ultraviolet and X-ray images\n",
    "\n",
    "Hint: Start by checking what UV image services exist (e.g., GALEX?)"
   ]
  },
  {
   "cell_type": "code",
   "execution_count": 5,
   "id": "d8549f34",
   "metadata": {},
   "outputs": [],
   "source": [
    "#  Hint:  start with a Registry search for relevant image services"
   ]
  },
  {
   "cell_type": "markdown",
   "id": "cdd2a73a",
   "metadata": {},
   "source": [
    "The keyword search for 'galex' returned a bunch of things that may have mentioned it, but let's just use the ones that have GALEX as their short name:"
   ]
  },
  {
   "cell_type": "code",
   "execution_count": 6,
   "id": "6c8dfd67",
   "metadata": {},
   "outputs": [],
   "source": [
    "#  Filter on the short_name attribute of the list of services"
   ]
  },
  {
   "cell_type": "markdown",
   "id": "c6cd020d",
   "metadata": {},
   "source": [
    "Though using the result as an Astropy Table makes it easier to look at the contents, to call the service itself, we cannot use the row of that table.  You have to use the entry in the service result list itself.  So use the table to browse, but select the list of services itself using the properties that have been defined as attributes such as short_name and ivoid:"
   ]
  },
  {
   "cell_type": "code",
   "execution_count": 7,
   "id": "7c620eaa",
   "metadata": {},
   "outputs": [],
   "source": [
    "#  You may find more than one service.  Look at both."
   ]
  },
  {
   "cell_type": "markdown",
   "id": "435671b9",
   "metadata": {},
   "source": [
    "Hint: Next create a UV image for the source"
   ]
  },
  {
   "cell_type": "code",
   "execution_count": 8,
   "id": "c8557e65",
   "metadata": {},
   "outputs": [],
   "source": [
    "# Do an image search for NGC 1365 in the UV services found above\n",
    "#\n",
    "#  Hint:  the QuickReference has this example:\n",
    "#results = services[1].search(pos=m83_pos, size=.2)"
   ]
  },
  {
   "cell_type": "code",
   "execution_count": 9,
   "id": "47d95e11",
   "metadata": {},
   "outputs": [],
   "source": [
    "# Get a FITS file and visualize the image\n",
    "#\n",
    "#  Hint:  the QuickReference has this example:\n",
    "#file_name = download_file(results[0].getdataurl())"
   ]
  },
  {
   "cell_type": "markdown",
   "id": "9b1659bf",
   "metadata": {},
   "source": [
    "Hint: Repeat steps for X-ray image. (Note: Ideally, we would find an image in the Chandra 'cxc' catalog)"
   ]
  },
  {
   "cell_type": "code",
   "execution_count": null,
   "id": "789054ec",
   "metadata": {},
   "outputs": [],
   "source": []
  },
  {
   "cell_type": "markdown",
   "id": "cb51b393",
   "metadata": {},
   "source": [
    "## Step 3: Make a spectrum\n",
    "\n",
    "### Find what Chandra spectral observations exist already for this source\n",
    "\n",
    "Hint: try searching for X-ray spectral data tables using the registry query"
   ]
  },
  {
   "cell_type": "code",
   "execution_count": 10,
   "id": "d8011c35",
   "metadata": {},
   "outputs": [],
   "source": [
    "# Search the Registry to list services that contain X-ray spectral data"
   ]
  },
  {
   "cell_type": "markdown",
   "id": "b697a173",
   "metadata": {},
   "source": [
    "Hint 2: Take a look at what data exist for our candidate, NGC 1365."
   ]
  },
  {
   "cell_type": "code",
   "execution_count": null,
   "id": "f7c7587b",
   "metadata": {},
   "outputs": [],
   "source": []
  },
  {
   "cell_type": "markdown",
   "id": "dd1f8670",
   "metadata": {},
   "source": [
    "Hint 3: Download the data to make a spectrum. Note: you might end here and use Xspec to plot and model the spectrum. Or ... you can also try to take a quick look at the spectrum."
   ]
  },
  {
   "cell_type": "code",
   "execution_count": 11,
   "id": "898edc57",
   "metadata": {},
   "outputs": [],
   "source": [
    "#  Get it and look at it:"
   ]
  },
  {
   "cell_type": "code",
   "execution_count": 12,
   "id": "ae96ffae",
   "metadata": {},
   "outputs": [],
   "source": [
    "## Or write it to disk"
   ]
  },
  {
   "cell_type": "markdown",
   "id": "2f1c1adf",
   "metadata": {},
   "source": [
    "Extension: Making a \"quick look\" spectrum. For our purposes, the 1st order of the HEG grating data would be sufficient."
   ]
  },
  {
   "cell_type": "code",
   "execution_count": 13,
   "id": "724d00e5",
   "metadata": {},
   "outputs": [],
   "source": [
    "#  Hint:  You'll have to look into the details of the spectra."
   ]
  },
  {
   "cell_type": "markdown",
   "id": "55cdd3da",
   "metadata": {},
   "source": [
    "This can then be analyzed in your favorite spectral analysis tool, e.g., [pyXspec](https://heasarc.gsfc.nasa.gov/xanadu/xspec/python/html/index.html).  (For the winter 2018 AAS workshop, we demonstrated this in a [notebook](https://github.com/NASA-NAVO/aas_workshop_2018/blob/master/heasarc/heasarc_Spectral_Access.md) that you can consult for how to use pyXspec, but the pyXspec documentation will have more information.)"
   ]
  },
  {
   "cell_type": "markdown",
   "id": "9d8d0979",
   "metadata": {},
   "source": [
    "Congratulations! You have completed this notebook exercise."
   ]
  }
 ],
 "metadata": {
  "anaconda-cloud": {},
  "jupytext": {
   "notebook_metadata_filter": "all",
   "text_representation": {
    "extension": ".md",
    "format_name": "myst",
    "format_version": 0.13,
    "jupytext_version": "1.14.4"
   }
  },
  "kernelspec": {
   "display_name": "Python 3",
   "language": "python",
   "name": "python3"
  },
  "language_info": {
   "codemirror_mode": {
    "name": "ipython",
    "version": 3
   },
   "file_extension": ".py",
   "mimetype": "text/x-python",
   "name": "python",
   "nbconvert_exporter": "python",
   "pygments_lexer": "ipython3",
   "version": "3.10.15"
  },
  "nav_menu": {},
  "source_map": [
   37,
   45,
   63,
   69,
   80,
   84,
   88,
   99,
   107,
   109,
   113,
   115,
   119,
   121,
   125,
   132,
   137,
   141,
   143,
   151,
   153,
   157,
   159,
   163,
   167,
   169,
   173,
   175,
   179
  ],
  "toc": {
   "base_numbering": 1,
   "nav_menu": {},
   "number_sections": false,
   "sideBar": true,
   "skip_h1_title": false,
   "title_cell": "Table of Contents",
   "title_sidebar": "Contents",
   "toc_cell": false,
   "toc_position": {},
   "toc_section_display": "block",
   "toc_window_display": true
  }
 },
 "nbformat": 4,
 "nbformat_minor": 5
}