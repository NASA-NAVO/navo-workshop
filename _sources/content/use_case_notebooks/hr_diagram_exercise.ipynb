{
 "cells": [
  {
   "cell_type": "markdown",
   "id": "26235711",
   "metadata": {},
   "source": [
    "# HR (Hertzsprung-Russell) Diagram Exercise\n",
    "\n",
    "The [Hertzsprung-Russell diagram](https://en.wikipedia.org/wiki/Hertzsprung–Russell_diagram) is a fundamental diagram in astronomy that displays important relationships between the stellar color (or temperature) and absolute brightness (or luminosity).\n",
    "\n",
    "In this exercise, we will use existing stellar catalogs to produce the H-R diagram."
   ]
  },
  {
   "cell_type": "code",
   "execution_count": 1,
   "id": "068a1b35",
   "metadata": {},
   "outputs": [],
   "source": [
    "# As a hint, we include the code block for Python modules that you will likely need to import:\n",
    "import matplotlib\n",
    "import matplotlib.pyplot as plt\n",
    "import numpy as np\n",
    "%matplotlib inline\n",
    "\n",
    "# For downloading files\n",
    "from astropy.utils.data import download_file\n",
    "from astropy.io import fits\n",
    "\n",
    "import pyvo as vo\n",
    "from pyvo import registry\n",
    "\n",
    "## There are a number of relatively unimportant warnings that\n",
    "## show up, so for now, suppress them:\n",
    "import warnings\n",
    "warnings.filterwarnings(\"ignore\", module=\"astropy.io.votable.*\")\n",
    "warnings.filterwarnings(\"ignore\", module=\"pyvo.utils.xml.*\")"
   ]
  },
  {
   "cell_type": "markdown",
   "id": "f61ba3eb",
   "metadata": {},
   "source": [
    "## Step 1: Find appropriate catalogs\n",
    "\n",
    "We want to find a star catalog that has the available data to produce the H-R diagram, i.e., the absolute magnitudes (or both apparent magnitudes AND distances, so we can calculate the absolute magnitudes) in two optical bands (e.g., B and V). This would give us color. Or we need B- OR V- band magnitude and the stellar temperature.\n",
    "\n",
    "To simplify this problem, we want to find a catalog of an open cluster of stars, where all the stars were born around the same time and are located in one cluster. This simplifies the issue of getting accurate distances to the stars. One famous cluster is the Pleiades in the constellation of Taurus. So first we start by searching for an existing catalog with data on Pleiades that will provide the necessary information about the stars: magnitudes in two bands (e.g., B and V), which can be used to measure color, or temperature of the star plus one magnitude."
   ]
  },
  {
   "cell_type": "markdown",
   "id": "b5465a14",
   "metadata": {},
   "source": [
    "### DATA DISCOVERY STEPS\n",
    "\n",
    "Here is useful link for [how the pyvo registry search works](https://pyvo.readthedocs.io/en/latest/registry/index.html)."
   ]
  },
  {
   "cell_type": "code",
   "execution_count": 2,
   "id": "0989bda8",
   "metadata": {
    "tags": [
     "output_scroll"
    ]
   },
   "outputs": [],
   "source": [
    "# Write some code to perform a registry search using\n",
    "# appropriate keywords and specify the service type.\n",
    "# Also apply the includeaux=True option to return\n",
    "# the maximum number of services:\n",
    "\n",
    "\n",
    "# Print the size of the output table and get a summary of the sources:"
   ]
  },
  {
   "cell_type": "markdown",
   "id": "e74df285",
   "metadata": {},
   "source": [
    "Note: The includeaux=True includes auxiliary services.\n",
    "\n",
    "Because we specified the service type, this returns only the TAP services for each of the avalible resorces matching our search criteria.  So, the 'interfaces' column will only show TAP service as an avalible service, even if other services are avalible from the same resource. We know we need the service to be a TAP service since we know that we want to eventually access the search using additional column information (i.e., beyond RA and Dec, which is all that Simple Cone Search returns)."
   ]
  },
  {
   "cell_type": "markdown",
   "id": "e2e09156",
   "metadata": {},
   "source": [
    "#### Next, we need to find which of these has the columns of interest, i.e. magnitudes in two bands to create the color-magnitude diagram\n",
    "\n",
    "We can re-run the registry search, but further restrict the results by column UCD.  We want tables that have magnitude columns; the most basic UCD to describe a magnitude column is phot.mag"
   ]
  },
  {
   "cell_type": "code",
   "execution_count": 3,
   "id": "d001c100",
   "metadata": {},
   "outputs": [],
   "source": [
    "# Perform another registry search, this time searching\n",
    "# tables that have at least 1 magnitude column.\n",
    "# Note: '%' serves as a wild card when searching columns\n",
    "\n",
    "# How many tables do you get?"
   ]
  },
  {
   "cell_type": "markdown",
   "id": "85dcf38b",
   "metadata": {},
   "source": [
    "Note: the '%' serves as a wild card when searching by UCD\n",
    "\n",
    "The IOVA standard enables resources to be as sepecific as they would like when defining the UCD of columns.  For example, 'phot.mag' and 'phot.mag;em.opt.V' can both be used to describe a column containing the V magnitudes of objects.  If a resource uses the latter to describe a column, a search using 'phot.mag' will not return that resource.  A wild card would need to be used or the exact column UCD. The UCD search requires an exact match for a resource to be returned, so using the wild card will make it easier to discover a wider variety of resources."
   ]
  },
  {
   "cell_type": "markdown",
   "id": "a3fef0cf",
   "metadata": {},
   "source": [
    "So using this we can reduce the matched tables to ones that are a bit more catered to our experiment. Note, that there is redundancy in some resources since these are available via multiple services and/or publishers. Therefore a bit more cleaning can be done to provide only the unique matches."
   ]
  },
  {
   "cell_type": "code",
   "execution_count": 4,
   "id": "2e67f9da",
   "metadata": {},
   "outputs": [],
   "source": [
    "# Print the 'ivoid' column for these tables"
   ]
  },
  {
   "cell_type": "code",
   "execution_count": 5,
   "id": "c6b0713a",
   "metadata": {},
   "outputs": [],
   "source": [
    "# Write a function that searches the result and only\n",
    "# outputs unique tables"
   ]
  },
  {
   "cell_type": "markdown",
   "id": "e157fd57",
   "metadata": {},
   "source": [
    "We can read more information about the results we found.  For each resource element (i.e. row in the table above), there are useful attributes, which are [described here]( https://pyvo.readthedocs.io/en/latest/api/pyvo.registry.regtap.RegistryResource.html#pyvo.registry.regtap.RegistryResource)"
   ]
  },
  {
   "cell_type": "code",
   "execution_count": 6,
   "id": "944783f5",
   "metadata": {
    "tags": [
     "output_scroll"
    ]
   },
   "outputs": [],
   "source": [
    "# Output the descriptions of the resulting matches:"
   ]
  },
  {
   "cell_type": "markdown",
   "id": "ecae6e57",
   "metadata": {},
   "source": [
    "<i> RESULT: Based on these, the second one (by Eichhorn et al) looks like a good start. </i>\n",
    "\n",
    "### At this point, you can proceed to Step 2\n",
    "\n",
    "-- OR --\n",
    "\n",
    "### Try a different data discovery method"
   ]
  },
  {
   "cell_type": "markdown",
   "id": "3761033a",
   "metadata": {
    "tags": [
     "output_scroll"
    ]
   },
   "source": [
    "### Alternative Method: Use ADS to search for appropriate paper and access data via NED\n",
    "\n",
    "There are multiple paths for the data discovery. So it may also be that you know the paper that has the data you are interested in and want to access via the bibcode or authors, etc.\n",
    "\n",
    "In this case, let's assume that we have the information that the Eichhorn+1970 paper has the data that we need to create the H-R diagram: <https://ui.adsabs.harvard.edu/abs/1970MmRAS..73..125E/abstract>\n",
    "\n",
    "We can either search by bibcode (1970MmRAS..73..125E) or \"Eichhorn\" to get the access_urls that will allow us to work with the data.\n",
    "\n",
    "Before this step, if may help to see the names of the fields available to use. Notice the following fields:\n",
    "\n",
    "\"source_value\" contains the bibcode information that we want; \"creator_seq\" lists the authors;\n",
    "\n",
    "and\n",
    "\n",
    "\"access_url\" provides the url from where the data can be accessed."
   ]
  },
  {
   "cell_type": "code",
   "execution_count": 7,
   "id": "712cb615",
   "metadata": {},
   "outputs": [],
   "source": [
    "# Print the fieldnames for the tap services."
   ]
  },
  {
   "cell_type": "markdown",
   "id": "71497ac7",
   "metadata": {},
   "source": [
    "First, Try using bibcode:"
   ]
  },
  {
   "cell_type": "code",
   "execution_count": 8,
   "id": "801ad4a7",
   "metadata": {},
   "outputs": [],
   "source": [
    "bibcode = '1970MmRAS..73..125E' # Eichhorn\n",
    "\n",
    "#\n",
    "# print \"short_name\", \"source_value\" and \"access_url\" information\n",
    "# for the table entry that matches this bibcode.\n",
    "#\n",
    "#  Note that using the to_table() lets you search the result\n",
    "#   easily using all columns.  But in the end, you want to get\n",
    "#   back not an astropy table row, which you cannot use, but the\n",
    "#   original RegistryResult that has the callable TAP service."
   ]
  },
  {
   "cell_type": "markdown",
   "id": "b9081a14",
   "metadata": {},
   "source": [
    "Note that the URL is a generic TAP url for Vizier.  All of its tables can be accessed by that same TAP services.  It'll be in the ADQL query itself that you specify the table name.  We'll see this below."
   ]
  },
  {
   "cell_type": "markdown",
   "id": "51fa7e5b",
   "metadata": {},
   "source": [
    "Next, try using Author name:"
   ]
  },
  {
   "cell_type": "code",
   "execution_count": 9,
   "id": "066663c8",
   "metadata": {},
   "outputs": [],
   "source": [
    "author = 'Eichhorn'\n",
    "\n",
    "#\n",
    "# print \"short_name\", \"reference_url\" and \"access_url\" information\n",
    "# for the table entry that matches this author name.\n",
    "#\n",
    "# Hint: The pyVO Registry resource page may help:\n",
    "# https://pyvo.readthedocs.io/en/latest/api/pyvo.registry.regtap.RegistryResource.html#pyvo.registry.regtap.RegistryResource.search"
   ]
  },
  {
   "cell_type": "markdown",
   "id": "ecae755b",
   "metadata": {},
   "source": [
    "These examples provide a few ways to access the information of interest.\n",
    "\n",
    "Below are a few other ways to see what the tap_service table contains.\n",
    "\n",
    "1. To view the column information: tap_services.to_table().columns() shows the metadata contained in the tap service. We will reference some of this columns below as we try to find the appropriate table.\n",
    "\n",
    "2. tap_services[index].describe(): The table with the tap_services output has, in our case, 83 tables listed and each includes metadata containing some human readable description. You can get the description for one case or for all the records by iterating through the resource. In the former case, we show the description for the Eichhorn data. The latter case also follows."
   ]
  },
  {
   "cell_type": "code",
   "execution_count": 10,
   "id": "347fa681",
   "metadata": {
    "tags": [
     "output_scroll"
    ]
   },
   "outputs": [],
   "source": [
    "# Print the full description for the Eichhorn+1970 example."
   ]
  },
  {
   "cell_type": "markdown",
   "id": "e0cd2484",
   "metadata": {},
   "source": [
    "## Step 2: Acquire the relevant data and make a plot\n",
    "\n",
    "In order to query the table, we need the table name, note this is NOT the same as the short name we found above:"
   ]
  },
  {
   "cell_type": "code",
   "execution_count": 11,
   "id": "94059c9b",
   "metadata": {},
   "outputs": [],
   "source": [
    "# Get the table name for the Eichhorn+1970 data"
   ]
  },
  {
   "cell_type": "code",
   "execution_count": 12,
   "id": "8217d2e4",
   "metadata": {},
   "outputs": [],
   "source": [
    "# Query the data to output the table information (i.e. the data in the\n",
    "# columns in the table)"
   ]
  },
  {
   "cell_type": "markdown",
   "id": "0b67584f",
   "metadata": {},
   "source": [
    "We can access the column data as array using the .getcolumn(colname) attribute, where the colname is given in the table above. In particular the \"CI\" is the color index and \"Ptm\" is the photovisual magnitude. See [here](https://vizier.u-strasbg.fr/viz-bin/VizieR?-source=I/90) for details about the columns."
   ]
  },
  {
   "cell_type": "code",
   "execution_count": 13,
   "id": "f7325af0",
   "metadata": {},
   "outputs": [],
   "source": [
    "# get color and magnitude column information for\n",
    "# stars in this table."
   ]
  },
  {
   "cell_type": "markdown",
   "id": "471ce8a7",
   "metadata": {},
   "source": [
    "### Plotting\n",
    "\n",
    "Note: The magnitudes here are apparent and therefore in plotting, the color-magnitude diagram is typically brightness increasing upwards (higher y-axis) so we will flip the y-axis here."
   ]
  },
  {
   "cell_type": "code",
   "execution_count": 14,
   "id": "4e618d9c",
   "metadata": {},
   "outputs": [
    {
     "data": {
      "text/plain": [
       "Text(0.5, 0, 'B-V')"
      ]
     },
     "execution_count": 14,
     "metadata": {},
     "output_type": "execute_result"
    },
    {
     "data": {
      "image/png": "[encoded data removed]",
      "text/plain": [
       "<Figure size 640x480 with 1 Axes>"
      ]
     },
     "metadata": {},
     "output_type": "display_data"
    }
   ],
   "source": [
    "plt.ylim(15, 0)\n",
    "plt.ylabel(\"V [apparent mag]\")\n",
    "plt.xlabel(\"B-V\")\n",
    "#\n",
    "# plot color and magnitude data:\n"
   ]
  },
  {
   "cell_type": "markdown",
   "id": "254a48ad",
   "metadata": {},
   "source": [
    "## Step 3. Compare with other color-magnitude diagrams for Pleiades\n",
    "\n",
    "There is nice discussion here: <http://www.southastrodel.com/Page03009a.htm>  about the color-magnitude diagram. Their Fig 4 looks slightly cleaner because part of this investigation was to select the 270 stars that are vetted members and restricted to stellar types more massive than K0.\n",
    "\n",
    "The dataset is from Raboud+1998 (1998A&A...329..101R)\n",
    "\n",
    "Therefore in this next step, we will use the bibcode to select this data and overplot with the previous data to compare."
   ]
  },
  {
   "cell_type": "code",
   "execution_count": 15,
   "id": "f36a0c9c",
   "metadata": {},
   "outputs": [],
   "source": [
    "bibcode = '1998A&A...329..101R' # Raboud\n",
    "\n",
    "# Repeat steps above with this other dataset:\n",
    "# First find the table usign the bib code"
   ]
  },
  {
   "cell_type": "code",
   "execution_count": 16,
   "id": "6411800e",
   "metadata": {},
   "outputs": [],
   "source": [
    "# Then query the table using the table name and get the\n",
    "# appropriate columns"
   ]
  },
  {
   "cell_type": "code",
   "execution_count": 17,
   "id": "9f27b8e7",
   "metadata": {},
   "outputs": [
    {
     "data": {
      "text/plain": [
       "Text(0.5, 0, 'B-V')"
      ]
     },
     "execution_count": 17,
     "metadata": {},
     "output_type": "execute_result"
    },
    {
     "data": {
      "image/png": "[encoded data removed]",
      "text/plain": [
       "<Figure size 640x480 with 1 Axes>"
      ]
     },
     "metadata": {},
     "output_type": "display_data"
    }
   ],
   "source": [
    "# Then plot!\n",
    "\n",
    "plt.ylim(15, 0)\n",
    "plt.ylabel(\"V [apparent mag]\")\n",
    "plt.xlabel(\"B-V\")\n",
    "\n",
    "# Plot the Eichhorn data as black circles and\n",
    "# Raboud data as red squares."
   ]
  },
  {
   "cell_type": "markdown",
   "id": "fe903dea",
   "metadata": {},
   "source": [
    "## BONUS: Step 4: The CMD as a distance indicator\n",
    "\n",
    "Since the y-axis above is apparent magnitude, we can use the obvious features (e.g., main sequence curve) to translate the apparent magnitudes to absolute magnitudes (by comparing to published H-R diagrams given in absolute magnitudes) and measure the distance to Pleiades!"
   ]
  },
  {
   "cell_type": "code",
   "execution_count": 18,
   "id": "6d7a9a5e",
   "metadata": {},
   "outputs": [],
   "source": [
    "sun_color = 0.65  # from http://www.astro.ucla.edu/~wright/magcolor.htm\n",
    "\n",
    "# Based on the color-magnitude diagram, what would be\n",
    "# the Sun's apparent magnitude at the distance of the Pleiades?\n",
    "# i.e. if you overplot the Sun on the CMD above\n",
    "# what's the Sun's magnitude, corresponding to the sun's color\n",
    "# given as B-V=0.65?\n",
    "\n",
    "# Overplot the sun in the plot above for reference.\n"
   ]
  },
  {
   "cell_type": "code",
   "execution_count": 19,
   "id": "bbd9152c",
   "metadata": {},
   "outputs": [],
   "source": [
    "# Measure the distance to the Pleaides, using the Sun\n",
    "# as a reference. We know the Sun's absolute magnitude:\n",
    "Vabs = 4.8   ## Sun @ B-V = 0.65 (taken from Wikipedia)\n",
    "\n",
    "# Using the Sun's apparent magnitude from your estimate above\n",
    "# what's the distance to Pleiades in pc?"
   ]
  },
  {
   "cell_type": "markdown",
   "id": "4edcd444",
   "metadata": {},
   "source": [
    "True distance to Pleaides is 136.2 pc  (<https://en.wikipedia.org/wiki/Pleiades> ). Not bad!"
   ]
  }
 ],
 "metadata": {
  "anaconda-cloud": {},
  "jupytext": {
   "notebook_metadata_filter": "all",
   "text_representation": {
    "extension": ".md",
    "format_name": "myst",
    "format_version": 0.13,
    "jupytext_version": "1.14.4"
   }
  },
  "kernelspec": {
   "display_name": "Python 3 (ipykernel)",
   "language": "python",
   "name": "python3"
  },
  "language_info": {
   "codemirror_mode": {
    "name": "ipython",
    "version": 3
   },
   "file_extension": ".py",
   "mimetype": "text/x-python",
   "name": "python",
   "nbconvert_exporter": "python",
   "pygments_lexer": "ipython3",
   "version": "3.10.15"
  },
  "nav_menu": {},
  "source_map": [
   33,
   41,
   60,
   68,
   74,
   84,
   90,
   96,
   102,
   108,
   112,
   116,
   119,
   123,
   127,
   137,
   155,
   157,
   161,
   172,
   176,
   180,
   189,
   199,
   203,
   209,
   213,
   216,
   220,
   223,
   229,
   236,
   246,
   253,
   258,
   267,
   273,
   287,
   294
  ],
  "toc": {
   "navigate_menu": true,
   "number_sections": true,
   "sideBar": true,
   "threshold": 6,
   "toc_cell": false,
   "toc_section_display": "block",
   "toc_window_display": true
  }
 },
 "nbformat": 4,
 "nbformat_minor": 5
}