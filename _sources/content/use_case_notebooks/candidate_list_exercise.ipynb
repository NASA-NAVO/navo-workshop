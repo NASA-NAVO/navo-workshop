{
 "cells": [
  {
   "cell_type": "markdown",
   "id": "4c8e8ba1",
   "metadata": {},
   "source": [
    "# Candidate List Exercise\n",
    "\n",
    "Ogle et al. (2016) mined the NASA/IPAC Extragalactic Database (NED) to identify a new type of galaxy: Superluminous Spiral Galaxies.\n",
    "\n",
    "Here's the paper: <https://ui.adsabs.harvard.edu/abs/2016ApJ...817..109O/abstract>\n",
    "\n",
    "Table 1 lists the positions of these Super Spirals. Based on those positions, let's create multiwavelength cutouts for each super spiral to see what is unique about this new class of objects."
   ]
  },
  {
   "cell_type": "markdown",
   "id": "c8cde890",
   "metadata": {},
   "source": [
    "## 1. Import the Python modules we'll be using"
   ]
  },
  {
   "cell_type": "code",
   "execution_count": 1,
   "id": "09d2fbda",
   "metadata": {},
   "outputs": [],
   "source": [
    "# Suppress unimportant warnings.\n",
    "import warnings\n",
    "warnings.filterwarnings(\"ignore\", module=\"astropy.io.votable.*\")\n",
    "warnings.filterwarnings(\"ignore\", module=\"pyvo.utils.xml.*\")\n",
    "warnings.filterwarnings('ignore', '.*RADECSYS=*', append=True)\n",
    "\n",
    "import matplotlib.pyplot as plt\n",
    "import numpy as np\n",
    "\n",
    "# For downloading files\n",
    "from astropy.utils.data import download_file\n",
    "\n",
    "from astropy.coordinates import SkyCoord\n",
    "from astropy.io import fits\n",
    "from astropy.nddata import Cutout2D\n",
    "import astropy.visualization as vis\n",
    "from astropy.wcs import WCS\n",
    "from astroquery.ipac.ned import Ned\n",
    "\n",
    "import pyvo as vo"
   ]
  },
  {
   "cell_type": "markdown",
   "id": "66b117fd",
   "metadata": {},
   "source": [
    "The next cell prepares the notebook to display our visualizations."
   ]
  },
  {
   "cell_type": "code",
   "execution_count": 2,
   "id": "6215d870",
   "metadata": {},
   "outputs": [],
   "source": [
    "%matplotlib inline"
   ]
  },
  {
   "cell_type": "markdown",
   "id": "43effa76",
   "metadata": {},
   "source": [
    "## 2. Search NED for objects in this paper\n",
    "\n",
    "Insert a Code Cell below by clicking on the \"Insert\" Menu and choosing \"Insert Cell Below\". Then consult QuickReference.md to figure out how to use astroquery to search NED for all objects in a paper, based on the refcode of the paper. Inspect the resulting astropy table."
   ]
  },
  {
   "cell_type": "code",
   "execution_count": 3,
   "id": "1b184ba5",
   "metadata": {},
   "outputs": [],
   "source": [
    "#  Hint:  the QuickReference has this example:\n",
    "#objects_in_paper = Ned.query_refcode('2018ApJ...858...62K')"
   ]
  },
  {
   "cell_type": "markdown",
   "id": "549af14f",
   "metadata": {},
   "source": [
    "## 3. Filter the NED results\n",
    "\n",
    "The results from NED will include galaxies, but also other kinds of objects (e.g. galaxy clusters, galaxy groups). Print the 'Type' column to see the full range of classifications and filter the results so that we only keep the galaxies in the list."
   ]
  },
  {
   "cell_type": "code",
   "execution_count": null,
   "id": "a698741d",
   "metadata": {},
   "outputs": [],
   "source": []
  },
  {
   "cell_type": "markdown",
   "id": "01ebd64f",
   "metadata": {},
   "source": [
    "## 4. Search the NAVO Registry for image resources\n",
    "\n",
    "The paper selected super spirals using WISE, SDSS, and GALEX images. Search the NAVO registry for all image resources, using the 'service_type' search parameter. How many image resources are currently available?"
   ]
  },
  {
   "cell_type": "code",
   "execution_count": 4,
   "id": "a4af14a5",
   "metadata": {},
   "outputs": [],
   "source": [
    "#  Hint:  the QuickReference has this example:\n",
    "#  services = vo.regsearch(servicetype='conesearch', keywords=['swift'])"
   ]
  },
  {
   "cell_type": "markdown",
   "id": "9deb0d98",
   "metadata": {},
   "source": [
    "## 5. Search the NAVO Registry for image resources that will allow you to search for AllWISE images\n",
    "\n",
    "There are hundreds of image resources...too many to quickly read through. Try adding the 'keywords' search parameter to your registry search, and find the image resource you would need to search the AllWISE images. Remember from the Known Issues that 'keywords' must be a list."
   ]
  },
  {
   "cell_type": "code",
   "execution_count": 5,
   "id": "c4741b6f",
   "metadata": {},
   "outputs": [],
   "source": [
    "#  Hint:  the QuickReference has this example:\n",
    "#  services = vo.regsearch(servicetype='conesearch', keywords=['swift'])"
   ]
  },
  {
   "cell_type": "markdown",
   "id": "68495989",
   "metadata": {},
   "source": [
    "## 6. Choose the AllWISE image service that you are interested in"
   ]
  },
  {
   "cell_type": "code",
   "execution_count": null,
   "id": "8516f9c3",
   "metadata": {},
   "outputs": [],
   "source": []
  },
  {
   "cell_type": "markdown",
   "id": "ff77f04d",
   "metadata": {},
   "source": [
    "## 7. Choose one of the galaxies in the NED list\n",
    "\n",
    "What is the position of this galaxy?"
   ]
  },
  {
   "cell_type": "code",
   "execution_count": 6,
   "id": "37274b66",
   "metadata": {},
   "outputs": [],
   "source": [
    "#  Hint:  the QuickReference has this example:\n",
    "#  m83_pos = SkyCoord('13h37m00.950s -29d51m55.51s')"
   ]
  },
  {
   "cell_type": "markdown",
   "id": "064ceea9",
   "metadata": {},
   "source": [
    "## 8. Search for a list of AllWISE images that cover this galaxy\n",
    "\n",
    "How many images are returned? Which are you most interested in?"
   ]
  },
  {
   "cell_type": "code",
   "execution_count": 7,
   "id": "88f40850",
   "metadata": {},
   "outputs": [],
   "source": [
    "#  Hint:  the QuickReference has this example:\n",
    "#results = services[1].search(pos=m83_pos, size=.2)"
   ]
  },
  {
   "cell_type": "markdown",
   "id": "b4ae6bef",
   "metadata": {},
   "source": [
    "## 9. Use the .to_table() method to view the results as an Astropy table"
   ]
  },
  {
   "cell_type": "code",
   "execution_count": null,
   "id": "4d2226fe",
   "metadata": {},
   "outputs": [],
   "source": []
  },
  {
   "cell_type": "markdown",
   "id": "ea59ee7c",
   "metadata": {},
   "source": [
    "## 10. From the result in 8., select the first record for an image taken in WISE band W1 (3.6 micron)\n",
    "\n",
    "Hints:\n",
    "\n",
    "* Loop over records and test on the `.bandpass_id` attribute of each record\n",
    "* Print the `.title` and `.bandpass_id` of the record you find, to verify it is the right one."
   ]
  },
  {
   "cell_type": "code",
   "execution_count": null,
   "id": "99921f8c",
   "metadata": {},
   "outputs": [],
   "source": []
  },
  {
   "cell_type": "markdown",
   "id": "dfb3b6c6",
   "metadata": {},
   "source": [
    "## 11. Visualize this AllWISE image\n",
    "\n",
    "Hint: Locate the galaxy in the image by overplotting a ring centered on the galaxy on the image"
   ]
  },
  {
   "cell_type": "code",
   "execution_count": 8,
   "id": "61369548",
   "metadata": {},
   "outputs": [],
   "source": [
    "#  Hint:  the QuickReference has this example:\n",
    "#  file_name = download_file(results[0].getdataurl())\n",
    "#  Hint:  when displaying the fits file play with the vmax value, a\n",
    "#  vmax value around 10 will display a nice image"
   ]
  },
  {
   "cell_type": "markdown",
   "id": "4ecc33d9",
   "metadata": {},
   "source": [
    "## 12. Plot a cutout of the AllWISE image, centered on your position\n",
    "\n",
    "Try a 60 arcsecond cutout."
   ]
  },
  {
   "cell_type": "code",
   "execution_count": 9,
   "id": "666f47dc",
   "metadata": {},
   "outputs": [],
   "source": [
    "#  Hint:  using Cutout2D imported above from from astropy.nddata"
   ]
  },
  {
   "cell_type": "markdown",
   "id": "abb51948",
   "metadata": {},
   "source": [
    "## 13. Try visualizing a cutout of a GALEX image that covers your position\n",
    "\n",
    "Repeat steps 5, 6, 8 through 12 for GALEX."
   ]
  },
  {
   "cell_type": "code",
   "execution_count": 10,
   "id": "8e2fa5b7",
   "metadata": {
    "tags": [
     "output_scroll"
    ]
   },
   "outputs": [],
   "source": [
    "# Steps 5 & 6: Search the services found in step 4 for GALEX Sources\n",
    "# Hint: Choose the GALEX service on STSCI"
   ]
  },
  {
   "cell_type": "code",
   "execution_count": 11,
   "id": "e7d99140",
   "metadata": {},
   "outputs": [],
   "source": [
    "# Steps 8 & 9: Find the images that contain your chosen galaxy\n",
    "# and display using .to_table()"
   ]
  },
  {
   "cell_type": "code",
   "execution_count": 12,
   "id": "732af83f",
   "metadata": {},
   "outputs": [],
   "source": [
    "# Step 10: Select one of the images and print the title and relevent\n",
    "# info. For example you can select an image with an 'enrValue' of 2.35e-07"
   ]
  },
  {
   "cell_type": "code",
   "execution_count": 13,
   "id": "2b17a42d",
   "metadata": {},
   "outputs": [],
   "source": [
    "# Step 11: Visualize the image and overplot a ring on the image centered\n",
    "# on your galaxy. (A very small vmax value around 0.01 is recomended)"
   ]
  },
  {
   "cell_type": "code",
   "execution_count": 14,
   "id": "02c764e4",
   "metadata": {},
   "outputs": [],
   "source": [
    "# Step 12: Use Cutout2D to get a 60 arcsecond cutout\n",
    "# centered on the galaxy"
   ]
  },
  {
   "cell_type": "markdown",
   "id": "c2a47ad8",
   "metadata": {},
   "source": [
    "## 14. Try visualizing a cutout of an SDSS image that covers your position\n",
    "\n",
    "Hints:\n",
    "\n",
    "* Search the registry using `keywords=['sloan']\n",
    "* Find the service with a `short_name` of `'SDSS SIAP'`\n",
    "* From Known Issues, recall that an empty string must be specified to the `format` parameter dues to a bug in the service.\n",
    "* After obtaining your search results, select r-band images using the `.title` attribute of the records that are returned, since `.bandpass_id` is not populated."
   ]
  },
  {
   "cell_type": "markdown",
   "id": "7383ff18",
   "metadata": {},
   "source": [
    "(As a workaround to a bug in the SDSS service, pass `format=''` as an argument to the search() function when using the SDSS service.)"
   ]
  },
  {
   "cell_type": "code",
   "execution_count": 15,
   "id": "dd48b315",
   "metadata": {},
   "outputs": [],
   "source": [
    "# Search the registery to find a service"
   ]
  },
  {
   "cell_type": "code",
   "execution_count": 16,
   "id": "fc8d6f21",
   "metadata": {},
   "outputs": [],
   "source": [
    "# Search the SDSS SIAP service for images containing your galaxy"
   ]
  },
  {
   "cell_type": "code",
   "execution_count": 17,
   "id": "bdd3d70b",
   "metadata": {},
   "outputs": [],
   "source": [
    "# Find an image taken in the r filter"
   ]
  },
  {
   "cell_type": "code",
   "execution_count": 18,
   "id": "21a0ec7b",
   "metadata": {},
   "outputs": [],
   "source": [
    "# Visualize the image and overplot a ring centered on the galaxy\n",
    "# Hint: a vmax around 0.01 will produce a nice image"
   ]
  },
  {
   "cell_type": "code",
   "execution_count": 19,
   "id": "3df4bbbf",
   "metadata": {},
   "outputs": [],
   "source": [
    "# use Cutout2D to get a 60 arcsecond cutout centered on the galaxy"
   ]
  },
  {
   "cell_type": "markdown",
   "id": "5e587e44",
   "metadata": {},
   "source": [
    "## 15. Try looping over all positions and plotting multiwavelength cutouts\n",
    "\n",
    "Hint: Gather the data in ALLWISE, GALEX, and SDSS for each galaxy and plot as seperate cutouts centered on the galaxy position"
   ]
  },
  {
   "cell_type": "markdown",
   "id": "ea993765",
   "metadata": {},
   "source": [
    "Warning: this takes a long time to run!  You can limit it to the first three galaxies only, for example, for testing."
   ]
  },
  {
   "cell_type": "code",
   "execution_count": null,
   "id": "d3fd0607",
   "metadata": {},
   "outputs": [],
   "source": []
  }
 ],
 "metadata": {
  "jupytext": {
   "notebook_metadata_filter": "all",
   "text_representation": {
    "extension": ".md",
    "format_name": "myst",
    "format_version": 0.13,
    "jupytext_version": "1.14.4"
   }
  },
  "kernelspec": {
   "display_name": "Python 3 (ipykernel)",
   "language": "python",
   "name": "python3"
  },
  "language_info": {
   "codemirror_mode": {
    "name": "ipython",
    "version": 3
   },
   "file_extension": ".py",
   "mimetype": "text/x-python",
   "name": "python",
   "nbconvert_exporter": "python",
   "pygments_lexer": "ipython3",
   "version": "3.10.15"
  },
  "source_map": [
   23,
   33,
   37,
   58,
   62,
   64,
   70,
   73,
   79,
   81,
   87,
   90,
   96,
   99,
   103,
   105,
   111,
   114,
   120,
   123,
   127,
   129,
   138,
   140,
   146,
   151,
   157,
   159,
   165,
   172,
   177,
   182,
   187,
   190,
   201,
   205,
   209,
   213,
   217,
   222,
   224,
   230,
   234
  ]
 },
 "nbformat": 4,
 "nbformat_minor": 5
}